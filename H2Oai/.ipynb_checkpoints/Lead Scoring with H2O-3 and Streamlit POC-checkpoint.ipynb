{
 "cells": [
  {
   "cell_type": "code",
   "execution_count": 1,
   "metadata": {},
   "outputs": [],
   "source": [
    "import streamlit as st\n",
    "\n",
    "import numpy as np\n",
    "import pandas as pd\n",
    "\n",
    "import time\n",
    "\n",
    "import h2o\n",
    "from h2o.automl import H2OAutoML"
   ]
  },
  {
   "cell_type": "code",
   "execution_count": 2,
   "metadata": {},
   "outputs": [],
   "source": [
    "#Set some variables here (use this area to set up parameters for AutoML and datasets)\n",
    "seed = 1234\n",
    "nfolds = 5\n",
    "stopping_metric = 'AUC'\n",
    "max_models = 10"
   ]
  },
  {
   "cell_type": "code",
   "execution_count": 3,
   "metadata": {},
   "outputs": [],
   "source": [
    "uploaded_file = st.file_uploader(\"Choose a CSV file to train the Lead Scoring model\", type=\"csv\")\n",
    "st.write('Note, you should remove ID values from the training set.')\n",
    "    \n",
    "if uploaded_file is not None:\n",
    "    data = pd.read_csv(uploaded_file)\n",
    "    with st.spinner('Wait for it...'):\n",
    "        time.sleep(5)\n",
    "        st.success('Done!')\n",
    "    st.write(data)"
   ]
  },
  {
   "cell_type": "code",
   "execution_count": 4,
   "metadata": {},
   "outputs": [],
   "source": [
    "target = st.text_input('Select the Target Variable (note: this is case sensitive)', 'Converted')\n",
    "\n",
    "uploaded_file = st.file_uploader(\"Choose a CSV file to make predictions on the model\", type=\"csv\")\n"
   ]
  },
  {
   "cell_type": "code",
   "execution_count": 5,
   "metadata": {},
   "outputs": [],
   "source": [
    "if uploaded_file is not None:\n",
    "    load = pd.read_csv(uploaded_file)\n",
    "    predict = load.sample(5)\n",
    "    st.write(\"We'll do a random sample of 5 rows\", predict)\n"
   ]
  },
  {
   "cell_type": "code",
   "execution_count": 6,
   "metadata": {},
   "outputs": [],
   "source": [
    "if st.button('Kick off Training & Predictions'):\n",
    "    st.write('Intializing Training Cluster...')\n",
    "    #Initialize H2O cluster\n",
    "    h2o.init()\n",
    "\n",
    "    st.write('Loading Data into Model...')\n",
    "\n",
    "    train = h2o.H2OFrame(data)\n",
    "    train,test= train.split_frame(ratios=[.7])\n",
    "\n",
    "    # Identify predictors and response\n",
    "    x = train.columns\n",
    "    y = target\n",
    "    x.remove(y)\n",
    "\n",
    "    train[y] = train[y].asfactor()\n",
    "    test[y] = test[y].asfactor()\n",
    "\n",
    "    # Run AutoML for 20 base models (limited to 1 hour max runtime by default)\n",
    "    with st.spinner('Wait for it...'):\n",
    "        aml = H2OAutoML(max_models=max_models, seed=seed, nfolds=nfolds, stopping_metric=stopping_metric, exclude_algos = [\"StackedEnsemble\", \"DeepLearning\", \"DRF\"])\n",
    "        aml.train(x=x, y=y, training_frame=train)\n",
    "        time.sleep(5)\n",
    "        st.success('Done!')\n",
    "\n",
    "    # View the AutoML Leaderboard\n",
    "    lb = aml.leaderboard\n",
    "    #lb.head(rows=lb.nrows)\n",
    "\n",
    "    # Get Leader Accuracy\n",
    "    perf_leader = aml.leader.model_performance(test).auc()\n",
    "    st.write(\"The best model accuracy for the model (AUC) is:\", str(perf_leader))\n",
    "\n",
    "    perf_f1 = aml.leader.model_performance(test).F1()\n",
    "    st.write(\"The best model accuracy for the model (F1) is:\", str(perf_f1))\n",
    "\n",
    "    m = h2o.get_model(lb[2,\"model_id\"])\n",
    "    FI = m.varimp(use_pandas=True)\n",
    "\n",
    "    st.write(\"Important Features\", FI)\n",
    "    \n",
    "    # Get predictions\n",
    "    preds = aml.predict(test)\n",
    "    print(preds)\n",
    "\n",
    "    predict_frame = h2o.H2OFrame(predict)\n",
    "    preds = aml.predict(predict_frame)\n",
    "\n",
    "    st.write('Intializing Prediction Cluster...')\n",
    "\n",
    "    st.write(preds)\n",
    "\n",
    "    tmp = preds.as_data_frame()\n",
    "    tmp2 = predict_frame.as_data_frame()\n",
    "    out = pd.merge(tmp, tmp2, left_index=True, right_index=True)\n",
    "    st.write('Here are the predictions with probabilities:', out)\n",
    "\n",
    "    st.write('Shutting down Training and Prediction Clusters...')\n",
    "    h2o.cluster().shutdown()\n",
    "    st.write(\"Thank you and Goodbye.\")\n",
    "else:\n",
    "    pass"
   ]
  },
  {
   "cell_type": "code",
   "execution_count": null,
   "metadata": {},
   "outputs": [],
   "source": []
  }
 ],
 "metadata": {
  "kernelspec": {
   "display_name": "Python 3",
   "language": "python",
   "name": "python3"
  },
  "language_info": {
   "codemirror_mode": {
    "name": "ipython",
    "version": 3
   },
   "file_extension": ".py",
   "mimetype": "text/x-python",
   "name": "python",
   "nbconvert_exporter": "python",
   "pygments_lexer": "ipython3",
   "version": "3.7.6"
  }
 },
 "nbformat": 4,
 "nbformat_minor": 4
}
