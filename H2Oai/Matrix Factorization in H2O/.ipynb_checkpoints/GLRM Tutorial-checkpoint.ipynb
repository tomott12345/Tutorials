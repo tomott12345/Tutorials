{
 "cells": [
  {
   "cell_type": "code",
   "execution_count": 1,
   "metadata": {},
   "outputs": [],
   "source": [
    "import h2o\n",
    "from h2o.estimators import H2OGeneralizedLowRankEstimator"
   ]
  },
  {
   "cell_type": "code",
   "execution_count": 2,
   "metadata": {},
   "outputs": [
    {
     "name": "stdout",
     "output_type": "stream",
     "text": [
      "Checking whether there is an H2O instance running at http://localhost:54321 ..... not found.\n",
      "Attempting to start a local H2O server...\n",
      "  Java Version: java version \"1.8.0_181\"; Java(TM) SE Runtime Environment (build 1.8.0_181-b13); Java HotSpot(TM) 64-Bit Server VM (build 25.181-b13, mixed mode)\n",
      "  Starting server from /Users/thomasott/opt/anaconda3/lib/python3.7/site-packages/h2o/backend/bin/h2o.jar\n",
      "  Ice root: /var/folders/9c/tqhnrz3x207bf8pzjxjhkm100000gn/T/tmp7zmqzn9q\n",
      "  JVM stdout: /var/folders/9c/tqhnrz3x207bf8pzjxjhkm100000gn/T/tmp7zmqzn9q/h2o_thomasott_started_from_python.out\n",
      "  JVM stderr: /var/folders/9c/tqhnrz3x207bf8pzjxjhkm100000gn/T/tmp7zmqzn9q/h2o_thomasott_started_from_python.err\n",
      "  Server is running at http://127.0.0.1:54321\n",
      "Connecting to H2O server at http://127.0.0.1:54321 ... successful.\n"
     ]
    },
    {
     "data": {
      "text/html": [
       "<div style=\"overflow:auto\"><table style=\"width:50%\"><tr><td>H2O_cluster_uptime:</td>\n",
       "<td>02 secs</td></tr>\n",
       "<tr><td>H2O_cluster_timezone:</td>\n",
       "<td>America/New_York</td></tr>\n",
       "<tr><td>H2O_data_parsing_timezone:</td>\n",
       "<td>UTC</td></tr>\n",
       "<tr><td>H2O_cluster_version:</td>\n",
       "<td>3.30.1.2</td></tr>\n",
       "<tr><td>H2O_cluster_version_age:</td>\n",
       "<td>27 days </td></tr>\n",
       "<tr><td>H2O_cluster_name:</td>\n",
       "<td>H2O_from_python_thomasott_knaj1h</td></tr>\n",
       "<tr><td>H2O_cluster_total_nodes:</td>\n",
       "<td>1</td></tr>\n",
       "<tr><td>H2O_cluster_free_memory:</td>\n",
       "<td>3.556 Gb</td></tr>\n",
       "<tr><td>H2O_cluster_total_cores:</td>\n",
       "<td>8</td></tr>\n",
       "<tr><td>H2O_cluster_allowed_cores:</td>\n",
       "<td>8</td></tr>\n",
       "<tr><td>H2O_cluster_status:</td>\n",
       "<td>accepting new members, healthy</td></tr>\n",
       "<tr><td>H2O_connection_url:</td>\n",
       "<td>http://127.0.0.1:54321</td></tr>\n",
       "<tr><td>H2O_connection_proxy:</td>\n",
       "<td>{\"http\": null, \"https\": null}</td></tr>\n",
       "<tr><td>H2O_internal_security:</td>\n",
       "<td>False</td></tr>\n",
       "<tr><td>H2O_API_Extensions:</td>\n",
       "<td>Amazon S3, XGBoost, Algos, AutoML, Core V3, TargetEncoder, Core V4</td></tr>\n",
       "<tr><td>Python_version:</td>\n",
       "<td>3.7.6 final</td></tr></table></div>"
      ],
      "text/plain": [
       "--------------------------  ------------------------------------------------------------------\n",
       "H2O_cluster_uptime:         02 secs\n",
       "H2O_cluster_timezone:       America/New_York\n",
       "H2O_data_parsing_timezone:  UTC\n",
       "H2O_cluster_version:        3.30.1.2\n",
       "H2O_cluster_version_age:    27 days\n",
       "H2O_cluster_name:           H2O_from_python_thomasott_knaj1h\n",
       "H2O_cluster_total_nodes:    1\n",
       "H2O_cluster_free_memory:    3.556 Gb\n",
       "H2O_cluster_total_cores:    8\n",
       "H2O_cluster_allowed_cores:  8\n",
       "H2O_cluster_status:         accepting new members, healthy\n",
       "H2O_connection_url:         http://127.0.0.1:54321\n",
       "H2O_connection_proxy:       {\"http\": null, \"https\": null}\n",
       "H2O_internal_security:      False\n",
       "H2O_API_Extensions:         Amazon S3, XGBoost, Algos, AutoML, Core V3, TargetEncoder, Core V4\n",
       "Python_version:             3.7.6 final\n",
       "--------------------------  ------------------------------------------------------------------"
      ]
     },
     "metadata": {},
     "output_type": "display_data"
    }
   ],
   "source": [
    "h2o.init()"
   ]
  },
  {
   "cell_type": "code",
   "execution_count": 3,
   "metadata": {},
   "outputs": [
    {
     "name": "stdout",
     "output_type": "stream",
     "text": [
      "Parse progress: |█████████████████████████████████████████████████████████| 100%\n",
      "Parse progress: |█████████████████████████████████████████████████████████| 100%\n"
     ]
    }
   ],
   "source": [
    "# Import the USArrests dataset into H2O:\n",
    "arrestsH2O = h2o.import_file(\"USArrests.csv\")\n",
    "arrestsH2O_nan = h2o.import_file(\"USArrests_nan.csv\")"
   ]
  },
  {
   "cell_type": "code",
   "execution_count": 4,
   "metadata": {},
   "outputs": [
    {
     "name": "stdout",
     "output_type": "stream",
     "text": [
      "Rows:50\n",
      "Cols:4\n",
      "\n",
      "\n"
     ]
    },
    {
     "data": {
      "text/html": [
       "<table>\n",
       "<thead>\n",
       "<tr><th>       </th><th>Murder           </th><th>Assault           </th><th>UrbanPop          </th><th>Rape              </th></tr>\n",
       "</thead>\n",
       "<tbody>\n",
       "<tr><td>type   </td><td>real             </td><td>int               </td><td>int               </td><td>real              </td></tr>\n",
       "<tr><td>mins   </td><td>0.8              </td><td>45.0              </td><td>32.0              </td><td>7.3               </td></tr>\n",
       "<tr><td>mean   </td><td>7.788            </td><td>170.76000000000005</td><td>65.53999999999999 </td><td>21.232000000000003</td></tr>\n",
       "<tr><td>maxs   </td><td>17.4             </td><td>337.0             </td><td>91.0              </td><td>46.0              </td></tr>\n",
       "<tr><td>sigma  </td><td>4.355509764209289</td><td>83.33766084001708 </td><td>14.474763400836784</td><td>9.36638453105965  </td></tr>\n",
       "<tr><td>zeros  </td><td>0                </td><td>0                 </td><td>0                 </td><td>0                 </td></tr>\n",
       "<tr><td>missing</td><td>0                </td><td>0                 </td><td>0                 </td><td>0                 </td></tr>\n",
       "<tr><td>0      </td><td>13.2             </td><td>236.0             </td><td>58.0              </td><td>21.2              </td></tr>\n",
       "<tr><td>1      </td><td>10.0             </td><td>263.0             </td><td>48.0              </td><td>44.5              </td></tr>\n",
       "<tr><td>2      </td><td>8.1              </td><td>294.0             </td><td>80.0              </td><td>31.0              </td></tr>\n",
       "<tr><td>3      </td><td>8.8              </td><td>190.0             </td><td>50.0              </td><td>19.5              </td></tr>\n",
       "<tr><td>4      </td><td>9.0              </td><td>276.0             </td><td>91.0              </td><td>40.6              </td></tr>\n",
       "<tr><td>5      </td><td>7.9              </td><td>204.0             </td><td>78.0              </td><td>38.7              </td></tr>\n",
       "<tr><td>6      </td><td>3.3              </td><td>110.0             </td><td>77.0              </td><td>11.1              </td></tr>\n",
       "<tr><td>7      </td><td>5.9              </td><td>238.0             </td><td>72.0              </td><td>15.8              </td></tr>\n",
       "<tr><td>8      </td><td>15.4             </td><td>335.0             </td><td>80.0              </td><td>31.9              </td></tr>\n",
       "<tr><td>9      </td><td>17.4             </td><td>211.0             </td><td>60.0              </td><td>25.8              </td></tr>\n",
       "</tbody>\n",
       "</table>"
      ]
     },
     "metadata": {},
     "output_type": "display_data"
    }
   ],
   "source": [
    "arrestsH2O.describe()"
   ]
  },
  {
   "cell_type": "code",
   "execution_count": 5,
   "metadata": {},
   "outputs": [
    {
     "name": "stdout",
     "output_type": "stream",
     "text": [
      "Rows:50\n",
      "Cols:4\n",
      "\n",
      "\n"
     ]
    },
    {
     "data": {
      "text/html": [
       "<table>\n",
       "<thead>\n",
       "<tr><th>       </th><th>Murder           </th><th>Assault           </th><th>UrbanPop          </th><th>Rape              </th></tr>\n",
       "</thead>\n",
       "<tbody>\n",
       "<tr><td>type   </td><td>real             </td><td>int               </td><td>int               </td><td>real              </td></tr>\n",
       "<tr><td>mins   </td><td>0.8              </td><td>45.0              </td><td>32.0              </td><td>7.8               </td></tr>\n",
       "<tr><td>mean   </td><td>7.632653061224488</td><td>172.12499999999994</td><td>65.53999999999999 </td><td>21.516326530612254</td></tr>\n",
       "<tr><td>maxs   </td><td>17.4             </td><td>337.0             </td><td>91.0              </td><td>46.0              </td></tr>\n",
       "<tr><td>sigma  </td><td>4.25839307305301 </td><td>84.67952728036175 </td><td>14.474763400836784</td><td>9.24286542282694  </td></tr>\n",
       "<tr><td>zeros  </td><td>0                </td><td>0                 </td><td>0                 </td><td>0                 </td></tr>\n",
       "<tr><td>missing</td><td>1                </td><td>2                 </td><td>0                 </td><td>1                 </td></tr>\n",
       "<tr><td>0      </td><td>13.2             </td><td>236.0             </td><td>58.0              </td><td>21.2              </td></tr>\n",
       "<tr><td>1      </td><td>10.0             </td><td>263.0             </td><td>48.0              </td><td>44.5              </td></tr>\n",
       "<tr><td>2      </td><td>8.1              </td><td>294.0             </td><td>80.0              </td><td>31.0              </td></tr>\n",
       "<tr><td>3      </td><td>8.8              </td><td>190.0             </td><td>50.0              </td><td>19.5              </td></tr>\n",
       "<tr><td>4      </td><td>9.0              </td><td>276.0             </td><td>91.0              </td><td>40.6              </td></tr>\n",
       "<tr><td>5      </td><td>7.9              </td><td>204.0             </td><td>78.0              </td><td>38.7              </td></tr>\n",
       "<tr><td>6      </td><td>3.3              </td><td>110.0             </td><td>77.0              </td><td>11.1              </td></tr>\n",
       "<tr><td>7      </td><td>5.9              </td><td>238.0             </td><td>72.0              </td><td>15.8              </td></tr>\n",
       "<tr><td>8      </td><td>nan              </td><td>335.0             </td><td>80.0              </td><td>31.9              </td></tr>\n",
       "<tr><td>9      </td><td>17.4             </td><td>211.0             </td><td>60.0              </td><td>25.8              </td></tr>\n",
       "</tbody>\n",
       "</table>"
      ]
     },
     "metadata": {},
     "output_type": "display_data"
    }
   ],
   "source": [
    "#Yes, we have 4 missing values in this dataset from USArrests_nan.csv\n",
    "arrestsH2O_nan.describe()"
   ]
  },
  {
   "cell_type": "code",
   "execution_count": 6,
   "metadata": {},
   "outputs": [],
   "source": [
    "# Split the dataset into a train and valid set:\n",
    "#train, test = arrestsH2O_nan.split_frame(ratios=[.8], seed=1234)\n",
    "train = arrestsH2O_nan"
   ]
  },
  {
   "cell_type": "code",
   "execution_count": 7,
   "metadata": {},
   "outputs": [],
   "source": [
    "# Build and train the model:\n",
    "glrm_model = H2OGeneralizedLowRankEstimator(k=4,\n",
    "                                            loss=\"quadratic\",\n",
    "                                            gamma_x=0.5,\n",
    "                                            gamma_y=0.5,\n",
    "                                            max_iterations=700,\n",
    "                                            recover_svd=True,\n",
    "                                            init=\"SVD\",\n",
    "                                            transform=\"standardize\")"
   ]
  },
  {
   "cell_type": "code",
   "execution_count": 8,
   "metadata": {},
   "outputs": [
    {
     "name": "stdout",
     "output_type": "stream",
     "text": [
      "glrm Model Build progress: |██████████████████████████████████████████████| 100%\n"
     ]
    }
   ],
   "source": [
    "glrm_model.train(training_frame=train)"
   ]
  },
  {
   "cell_type": "code",
   "execution_count": 9,
   "metadata": {},
   "outputs": [
    {
     "name": "stdout",
     "output_type": "stream",
     "text": [
      "\n",
      "ModelMetricsGLRM: glrm\n",
      "** Reported on train data. **\n",
      "\n",
      "MSE: NaN\n",
      "RMSE: NaN\n",
      "Sum of Squared Error (Numeric): 3.01194931068139e-13\n",
      "Misclassification Error (Categorical): 0.0\n"
     ]
    },
    {
     "data": {
      "text/plain": []
     },
     "execution_count": 9,
     "metadata": {},
     "output_type": "execute_result"
    }
   ],
   "source": [
    "glrm_model.model_performance()"
   ]
  },
  {
   "cell_type": "code",
   "execution_count": 10,
   "metadata": {},
   "outputs": [
    {
     "name": "stdout",
     "output_type": "stream",
     "text": [
      "glrm prediction progress: |███████████████████████████████████████████████| 100%\n"
     ]
    },
    {
     "data": {
      "text/html": [
       "<table>\n",
       "<thead>\n",
       "<tr><th style=\"text-align: right;\">  reconstr_Murder</th><th style=\"text-align: right;\">  reconstr_Assault</th><th style=\"text-align: right;\">  reconstr_UrbanPop</th><th style=\"text-align: right;\">  reconstr_Rape</th></tr>\n",
       "</thead>\n",
       "<tbody>\n",
       "<tr><td style=\"text-align: right;\">      1.30738    </td><td style=\"text-align: right;\">          0.754315</td><td style=\"text-align: right;\">          -0.520907</td><td style=\"text-align: right;\">     -0.0342239</td></tr>\n",
       "<tr><td style=\"text-align: right;\">      0.555925   </td><td style=\"text-align: right;\">          1.07316 </td><td style=\"text-align: right;\">          -1.21176 </td><td style=\"text-align: right;\">      2.48664  </td></tr>\n",
       "<tr><td style=\"text-align: right;\">      0.109747   </td><td style=\"text-align: right;\">          1.43925 </td><td style=\"text-align: right;\">           0.99898 </td><td style=\"text-align: right;\">      1.02605  </td></tr>\n",
       "<tr><td style=\"text-align: right;\">      0.274129   </td><td style=\"text-align: right;\">          0.21109 </td><td style=\"text-align: right;\">          -1.07359 </td><td style=\"text-align: right;\">     -0.21815  </td></tr>\n",
       "<tr><td style=\"text-align: right;\">      0.321095   </td><td style=\"text-align: right;\">          1.22668 </td><td style=\"text-align: right;\">           1.75892 </td><td style=\"text-align: right;\">      2.06469  </td></tr>\n",
       "<tr><td style=\"text-align: right;\">      0.0627812  </td><td style=\"text-align: right;\">          0.376419</td><td style=\"text-align: right;\">           0.860809</td><td style=\"text-align: right;\">      1.85913  </td></tr>\n",
       "<tr><td style=\"text-align: right;\">     -1.01744    </td><td style=\"text-align: right;\">         -0.733648</td><td style=\"text-align: right;\">           0.791723</td><td style=\"text-align: right;\">     -1.12696  </td></tr>\n",
       "<tr><td style=\"text-align: right;\">     -0.40688    </td><td style=\"text-align: right;\">          0.777933</td><td style=\"text-align: right;\">           0.446294</td><td style=\"text-align: right;\">     -0.618458 </td></tr>\n",
       "<tr><td style=\"text-align: right;\">     -4.44089e-16</td><td style=\"text-align: right;\">          1.92343 </td><td style=\"text-align: right;\">           0.99898 </td><td style=\"text-align: right;\">      1.12343  </td></tr>\n",
       "<tr><td style=\"text-align: right;\">      2.29367    </td><td style=\"text-align: right;\">          0.459084</td><td style=\"text-align: right;\">          -0.382735</td><td style=\"text-align: right;\">      0.463457 </td></tr>\n",
       "</tbody>\n",
       "</table>"
      ]
     },
     "metadata": {},
     "output_type": "display_data"
    },
    {
     "data": {
      "text/plain": []
     },
     "execution_count": 10,
     "metadata": {},
     "output_type": "execute_result"
    }
   ],
   "source": [
    "out = glrm_model.predict(train)\n",
    "out"
   ]
  },
  {
   "cell_type": "code",
   "execution_count": 11,
   "metadata": {},
   "outputs": [
    {
     "name": "stdout",
     "output_type": "stream",
     "text": [
      "Rows:50\n",
      "Cols:4\n",
      "\n",
      "\n"
     ]
    },
    {
     "data": {
      "text/html": [
       "<table>\n",
       "<thead>\n",
       "<tr><th>       </th><th>Murder           </th><th>Assault           </th><th>UrbanPop          </th><th>Rape              </th></tr>\n",
       "</thead>\n",
       "<tbody>\n",
       "<tr><td>type   </td><td>real             </td><td>int               </td><td>int               </td><td>real              </td></tr>\n",
       "<tr><td>mins   </td><td>0.8              </td><td>45.0              </td><td>32.0              </td><td>7.8               </td></tr>\n",
       "<tr><td>mean   </td><td>7.632653061224488</td><td>172.12499999999994</td><td>65.53999999999999 </td><td>21.516326530612254</td></tr>\n",
       "<tr><td>maxs   </td><td>17.4             </td><td>337.0             </td><td>91.0              </td><td>46.0              </td></tr>\n",
       "<tr><td>sigma  </td><td>4.25839307305301 </td><td>84.67952728036175 </td><td>14.474763400836784</td><td>9.24286542282694  </td></tr>\n",
       "<tr><td>zeros  </td><td>0                </td><td>0                 </td><td>0                 </td><td>0                 </td></tr>\n",
       "<tr><td>missing</td><td>1                </td><td>2                 </td><td>0                 </td><td>1                 </td></tr>\n",
       "<tr><td>0      </td><td>13.2             </td><td>236.0             </td><td>58.0              </td><td>21.2              </td></tr>\n",
       "<tr><td>1      </td><td>10.0             </td><td>263.0             </td><td>48.0              </td><td>44.5              </td></tr>\n",
       "<tr><td>2      </td><td>8.1              </td><td>294.0             </td><td>80.0              </td><td>31.0              </td></tr>\n",
       "<tr><td>3      </td><td>8.8              </td><td>190.0             </td><td>50.0              </td><td>19.5              </td></tr>\n",
       "<tr><td>4      </td><td>9.0              </td><td>276.0             </td><td>91.0              </td><td>40.6              </td></tr>\n",
       "<tr><td>5      </td><td>7.9              </td><td>204.0             </td><td>78.0              </td><td>38.7              </td></tr>\n",
       "<tr><td>6      </td><td>3.3              </td><td>110.0             </td><td>77.0              </td><td>11.1              </td></tr>\n",
       "<tr><td>7      </td><td>5.9              </td><td>238.0             </td><td>72.0              </td><td>15.8              </td></tr>\n",
       "<tr><td>8      </td><td>nan              </td><td>335.0             </td><td>80.0              </td><td>31.9              </td></tr>\n",
       "<tr><td>9      </td><td>17.4             </td><td>211.0             </td><td>60.0              </td><td>25.8              </td></tr>\n",
       "</tbody>\n",
       "</table>"
      ]
     },
     "metadata": {},
     "output_type": "display_data"
    }
   ],
   "source": [
    "#Missing Values in the Train Set\n",
    "train.describe()"
   ]
  },
  {
   "cell_type": "code",
   "execution_count": 12,
   "metadata": {},
   "outputs": [
    {
     "name": "stdout",
     "output_type": "stream",
     "text": [
      "Rows:50\n",
      "Cols:4\n",
      "\n",
      "\n"
     ]
    },
    {
     "data": {
      "text/html": [
       "<table>\n",
       "<thead>\n",
       "<tr><th>       </th><th>reconstr_Murder       </th><th>reconstr_Assault     </th><th>reconstr_UrbanPop    </th><th>reconstr_Rape         </th></tr>\n",
       "</thead>\n",
       "<tbody>\n",
       "<tr><td>type   </td><td>real                  </td><td>real                 </td><td>real                 </td><td>real                  </td></tr>\n",
       "<tr><td>mins   </td><td>-1.6045144128336395   </td><td>-1.5012483428149914  </td><td>-2.317136320035535   </td><td>-1.483990721831488    </td></tr>\n",
       "<tr><td>mean   </td><td>4.215378046623641e-16 </td><td>6.753625436672905e-16</td><td>5.681219383824043e-16</td><td>-8.951173136040325e-16</td></tr>\n",
       "<tr><td>maxs   </td><td>2.293669647497551     </td><td>1.9470467690983042   </td><td>1.758923396186785    </td><td>2.6489267504556384    </td></tr>\n",
       "<tr><td>sigma  </td><td>0.9897433186107868    </td><td>0.9793792286287207   </td><td>1.0                  </td><td>0.9897433186107868    </td></tr>\n",
       "<tr><td>zeros  </td><td>0                     </td><td>0                    </td><td>0                    </td><td>0                     </td></tr>\n",
       "<tr><td>missing</td><td>0                     </td><td>0                    </td><td>0                    </td><td>0                     </td></tr>\n",
       "<tr><td>0      </td><td>1.307382114160744     </td><td>0.7543145557310341   </td><td>-0.5209066145816317  </td><td>-0.034223859825009306 </td></tr>\n",
       "<tr><td>1      </td><td>0.555924945904129     </td><td>1.0731637612846607   </td><td>-1.2117641936023638  </td><td>2.4866394151564055    </td></tr>\n",
       "<tr><td>2      </td><td>0.10974725225176346   </td><td>1.4392498861795655   </td><td>0.9989800592639793   </td><td>1.0260533974633113    </td></tr>\n",
       "<tr><td>3      </td><td>0.27412850780789844   </td><td>0.21108998330633683  </td><td>-1.0735926777982172  </td><td>-0.218149506497473    </td></tr>\n",
       "<tr><td>4      </td><td>0.3210945808239367    </td><td>1.2266837491438143   </td><td>1.758923396186785    </td><td>2.064692343378401     </td></tr>\n",
       "<tr><td>5      </td><td>0.06278117923572539   </td><td>0.37641920100080994  </td><td>0.8608085434598329   </td><td>1.859128385332706     </td></tr>\n",
       "<tr><td>6      </td><td>-1.017438500133159    </td><td>-0.7336484035192236  </td><td>0.7917227855577597   </td><td>-1.1269585841731762   </td></tr>\n",
       "<tr><td>7      </td><td>-0.40687955092465916  </td><td>0.7779330154016731   </td><td>0.4462939960473936   </td><td>-0.6184582669022469   </td></tr>\n",
       "<tr><td>8      </td><td>-4.440892098500626e-16</td><td>1.9234283094276652   </td><td>0.9989800592639793   </td><td>1.1234257986428506    </td></tr>\n",
       "<tr><td>9      </td><td>2.293669647497551     </td><td>0.4590838098480463   </td><td>-0.3827350987774851  </td><td>0.46345730175930455   </td></tr>\n",
       "</tbody>\n",
       "</table>"
      ]
     },
     "metadata": {},
     "output_type": "display_data"
    }
   ],
   "source": [
    "#Missing Values Imputed\n",
    "out.describe()"
   ]
  },
  {
   "cell_type": "code",
   "execution_count": null,
   "metadata": {},
   "outputs": [],
   "source": []
  }
 ],
 "metadata": {
  "kernelspec": {
   "display_name": "Python 3",
   "language": "python",
   "name": "python3"
  },
  "language_info": {
   "codemirror_mode": {
    "name": "ipython",
    "version": 3
   },
   "file_extension": ".py",
   "mimetype": "text/x-python",
   "name": "python",
   "nbconvert_exporter": "python",
   "pygments_lexer": "ipython3",
   "version": "3.7.6"
  }
 },
 "nbformat": 4,
 "nbformat_minor": 4
}
