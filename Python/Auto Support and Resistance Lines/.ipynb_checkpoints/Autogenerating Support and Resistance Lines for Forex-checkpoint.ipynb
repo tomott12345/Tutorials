{
 "cells": [
  {
   "cell_type": "markdown",
   "metadata": {},
   "source": [
    "## README!\n",
    "\n",
    "This notebook uses the Oanada datafeed from their v20 API. You will need to get a dev token to run this code. You will need to put your account # and dev token into two seperate files called account.txt and token.txt in a sub folder called 'oanda_account.' You may change this by make sure to update the def exampleAuth function. \n",
    "\n",
    "Install Py Package from: https://github.com/hootnot/oanda-api-v20 and the ReadTheDocs are here: https://oanda-api-v20.readthedocs.io/en/latest/oanda-api-v20.html\n",
    "\n",
    "This is the first version of the Autogenerating Support and Resistance Lines and it makes a matplotlib chart. The  subsquent notebook will contain Bokeh charting.\n"
   ]
  },
  {
   "cell_type": "code",
   "execution_count": 36,
   "metadata": {},
   "outputs": [],
   "source": [
    "#Initialize python libraries\n",
    "\n",
    "import json\n",
    "import oandapyV20\n",
    "import oandapyV20.endpoints.instruments as instruments\n",
    "from oandapyV20.contrib.factories import InstrumentsCandlesFactory\n",
    "\n",
    "import datetime as DT\n",
    "\n",
    "import pandas as pd\n",
    "from pandas.io.json import json_normalize\n",
    "\n",
    "from scipy.signal import savgol_filter as smooth\n",
    "import matplotlib.pyplot as plt\n",
    "\n",
    "import numpy as np"
   ]
  },
  {
   "cell_type": "code",
   "execution_count": 37,
   "metadata": {},
   "outputs": [],
   "source": [
    "#This function just reads your account.txt and token.txt file. I have NOT included this in the repo, you will have to provide your own.\n",
    "def exampleAuth():\n",
    "    accountID, token = None, None\n",
    "    with open(\"./oanda_account/account.txt\") as I:\n",
    "        accountID = I.read().strip()\n",
    "    with open(\"./oanda_account/token.txt\") as I:\n",
    "        token = I.read().strip()\n",
    "    return accountID, token"
   ]
  },
  {
   "cell_type": "code",
   "execution_count": 38,
   "metadata": {},
   "outputs": [],
   "source": [
    "#Connect to your Account!\n",
    "\n",
    "accountID, access_token = exampleAuth()\n",
    "client = oandapyV20.API(access_token=access_token)"
   ]
  },
  {
   "cell_type": "code",
   "execution_count": 39,
   "metadata": {},
   "outputs": [],
   "source": [
    "#Some datetime work. I tried to make this simple so I grab today's date and then go back 720 days to generate the chart. That's two years!\n",
    "today = DT.date.today()\n",
    "two_years_ago = today - DT.timedelta(days=720)\n",
    "\n",
    "t = today.timetuple()\n",
    "y = two_years_ago.timetuple()"
   ]
  },
  {
   "cell_type": "code",
   "execution_count": 40,
   "metadata": {},
   "outputs": [],
   "source": [
    "instrument = \"EUR_USD\"\n",
    "params = {\n",
    "    \"from\": two_years_ago,\n",
    "    \"granularity\": \"D\",\n",
    "    \"count\": 720,\n",
    "}\n",
    "\n",
    "r = instruments.InstrumentsCandles(instrument=instrument, params=params)\n",
    "response = client.request(r)"
   ]
  },
  {
   "cell_type": "code",
   "execution_count": 41,
   "metadata": {},
   "outputs": [],
   "source": [
    "df = pd.DataFrame(response['candles']).set_index('time')"
   ]
  },
  {
   "cell_type": "code",
   "execution_count": 42,
   "metadata": {},
   "outputs": [],
   "source": [
    "df = df['mid']"
   ]
  },
  {
   "cell_type": "code",
   "execution_count": 43,
   "metadata": {},
   "outputs": [],
   "source": [
    "time_df = pd.DataFrame(response['candles'])\n",
    "time = time_df['time']"
   ]
  },
  {
   "cell_type": "code",
   "execution_count": 44,
   "metadata": {},
   "outputs": [],
   "source": [
    "df = json_normalize(df).astype(float)"
   ]
  },
  {
   "cell_type": "code",
   "execution_count": 45,
   "metadata": {},
   "outputs": [],
   "source": [
    "df = pd.merge(df, time, how='inner', left_index=True, right_index=True)"
   ]
  },
  {
   "cell_type": "code",
   "execution_count": 46,
   "metadata": {},
   "outputs": [],
   "source": [
    "df['just_date'] = pd.to_datetime(df['time']).dt.date"
   ]
  },
  {
   "cell_type": "code",
   "execution_count": 50,
   "metadata": {},
   "outputs": [
    {
     "data": {
      "text/plain": [
       "c            float64\n",
       "h            float64\n",
       "l            float64\n",
       "o            float64\n",
       "time          object\n",
       "just_date     object\n",
       "dtype: object"
      ]
     },
     "execution_count": 50,
     "metadata": {},
     "output_type": "execute_result"
    }
   ],
   "source": [
    "df.dtypes"
   ]
  },
  {
   "cell_type": "code",
   "execution_count": 51,
   "metadata": {},
   "outputs": [],
   "source": [
    "close = df['c']"
   ]
  },
  {
   "cell_type": "code",
   "execution_count": 52,
   "metadata": {},
   "outputs": [],
   "source": [
    "data = close.to_numpy()"
   ]
  },
  {
   "cell_type": "code",
   "execution_count": 53,
   "metadata": {},
   "outputs": [],
   "source": [
    "#Set Lookback period\n",
    "time = 20"
   ]
  },
  {
   "cell_type": "code",
   "execution_count": 54,
   "metadata": {},
   "outputs": [],
   "source": [
    "def support(ltp, n):\n",
    "    \"\"\"\n",
    "    This function takes a numpy array of last traded price\n",
    "    and returns a list of support and resistance levels \n",
    "    respectively. n is the number of entries to be scanned.\n",
    "    \"\"\"\n",
    "\n",
    "    # converting n to a nearest even number\n",
    "    if n % 2 != 0:\n",
    "        n += 1\n",
    "\n",
    "    n_ltp = ltp.shape[0]\n",
    "\n",
    "    # smoothening the curve\n",
    "    ltp_s = smooth(ltp, (n + 1), 3)\n",
    "\n",
    "    # taking a simple derivative\n",
    "    ltp_d = np.zeros(n_ltp)\n",
    "    ltp_d[1:] = np.subtract(ltp_s[1:], ltp_s[:-1])\n",
    "\n",
    "    resistance = []\n",
    "    support = []\n",
    "\n",
    "    for i in range(n_ltp - n):\n",
    "        arr_sl = ltp_d[i:(i + n)]\n",
    "        first = arr_sl[:(n // 2)]  # first half\n",
    "        last = arr_sl[(n // 2):]  # second half\n",
    "\n",
    "        r_1 = np.sum(first > 0)\n",
    "        r_2 = np.sum(last < 0)\n",
    "\n",
    "        s_1 = np.sum(first < 0)\n",
    "        s_2 = np.sum(last > 0)\n",
    "\n",
    "        # local maxima detection\n",
    "        if (r_1 == (n // 2)) and (r_2 == (n // 2)):\n",
    "            resistance.append(ltp[i + ((n // 2) - 1)])\n",
    "\n",
    "        # local minima detection\n",
    "        if (s_1 == (n // 2)) and (s_2 == (n // 2)):\n",
    "            support.append(ltp[i + ((n // 2) - 1)])\n",
    "\n",
    "    return support\n"
   ]
  },
  {
   "cell_type": "code",
   "execution_count": 55,
   "metadata": {},
   "outputs": [],
   "source": [
    "sup = support(data, time)"
   ]
  },
  {
   "cell_type": "code",
   "execution_count": 56,
   "metadata": {},
   "outputs": [
    {
     "data": {
      "text/html": [
       "<div>\n",
       "<style scoped>\n",
       "    .dataframe tbody tr th:only-of-type {\n",
       "        vertical-align: middle;\n",
       "    }\n",
       "\n",
       "    .dataframe tbody tr th {\n",
       "        vertical-align: top;\n",
       "    }\n",
       "\n",
       "    .dataframe thead th {\n",
       "        text-align: right;\n",
       "    }\n",
       "</style>\n",
       "<table border=\"1\" class=\"dataframe\">\n",
       "  <thead>\n",
       "    <tr style=\"text-align: right;\">\n",
       "      <th></th>\n",
       "      <th>0</th>\n",
       "    </tr>\n",
       "  </thead>\n",
       "  <tbody>\n",
       "    <tr>\n",
       "      <th>0</th>\n",
       "      <td>1.08986</td>\n",
       "    </tr>\n",
       "    <tr>\n",
       "      <th>1</th>\n",
       "      <td>1.07916</td>\n",
       "    </tr>\n",
       "  </tbody>\n",
       "</table>\n",
       "</div>"
      ],
      "text/plain": [
       "         0\n",
       "0  1.08986\n",
       "1  1.07916"
      ]
     },
     "execution_count": 56,
     "metadata": {},
     "output_type": "execute_result"
    }
   ],
   "source": [
    "df_sup = pd.DataFrame(sup)\n",
    "df_sup"
   ]
  },
  {
   "cell_type": "code",
   "execution_count": 57,
   "metadata": {},
   "outputs": [],
   "source": [
    "def resistance(ltp, n):\n",
    "    \"\"\"\n",
    "    This function takes a numpy array of last traded price\n",
    "    and returns a list of support and resistance levels \n",
    "    respectively. n is the number of entries to be scanned.\n",
    "    \"\"\"\n",
    "\n",
    "    # converting n to a nearest even number\n",
    "    if n % 2 != 0:\n",
    "        n += 1\n",
    "\n",
    "    n_ltp = ltp.shape[0]\n",
    "\n",
    "    # smoothening the curve\n",
    "    ltp_s = smooth(ltp, (n + 1), 3)\n",
    "\n",
    "    # taking a simple derivative\n",
    "    ltp_d = np.zeros(n_ltp)\n",
    "    ltp_d[1:] = np.subtract(ltp_s[1:], ltp_s[:-1])\n",
    "\n",
    "    resistance = []\n",
    "    support = []\n",
    "\n",
    "    for i in range(n_ltp - n):\n",
    "        arr_sl = ltp_d[i:(i + n)]\n",
    "        first = arr_sl[:(n // 2)]  # first half\n",
    "        last = arr_sl[(n // 2):]  # second half\n",
    "\n",
    "        r_1 = np.sum(first > 0)\n",
    "        r_2 = np.sum(last < 0)\n",
    "\n",
    "        s_1 = np.sum(first < 0)\n",
    "        s_2 = np.sum(last > 0)\n",
    "\n",
    "        # local maxima detection\n",
    "        if (r_1 == (n // 2)) and (r_2 == (n // 2)):\n",
    "            resistance.append(ltp[i + ((n // 2) - 1)])\n",
    "\n",
    "        # local minima detection\n",
    "        if (s_1 == (n // 2)) and (s_2 == (n // 2)):\n",
    "            support.append(ltp[i + ((n // 2) - 1)])\n",
    "\n",
    "    return resistance"
   ]
  },
  {
   "cell_type": "code",
   "execution_count": 58,
   "metadata": {},
   "outputs": [],
   "source": [
    "res = resistance(data, time)"
   ]
  },
  {
   "cell_type": "code",
   "execution_count": 59,
   "metadata": {},
   "outputs": [
    {
     "data": {
      "text/html": [
       "<div>\n",
       "<style scoped>\n",
       "    .dataframe tbody tr th:only-of-type {\n",
       "        vertical-align: middle;\n",
       "    }\n",
       "\n",
       "    .dataframe tbody tr th {\n",
       "        vertical-align: top;\n",
       "    }\n",
       "\n",
       "    .dataframe thead th {\n",
       "        text-align: right;\n",
       "    }\n",
       "</style>\n",
       "<table border=\"1\" class=\"dataframe\">\n",
       "  <thead>\n",
       "    <tr style=\"text-align: right;\">\n",
       "      <th></th>\n",
       "      <th>0</th>\n",
       "    </tr>\n",
       "  </thead>\n",
       "  <tbody>\n",
       "    <tr>\n",
       "      <th>0</th>\n",
       "      <td>1.17776</td>\n",
       "    </tr>\n",
       "    <tr>\n",
       "      <th>1</th>\n",
       "      <td>1.13694</td>\n",
       "    </tr>\n",
       "    <tr>\n",
       "      <th>2</th>\n",
       "      <td>1.10795</td>\n",
       "    </tr>\n",
       "    <tr>\n",
       "      <th>3</th>\n",
       "      <td>1.11512</td>\n",
       "    </tr>\n",
       "    <tr>\n",
       "      <th>4</th>\n",
       "      <td>1.14400</td>\n",
       "    </tr>\n",
       "  </tbody>\n",
       "</table>\n",
       "</div>"
      ],
      "text/plain": [
       "         0\n",
       "0  1.17776\n",
       "1  1.13694\n",
       "2  1.10795\n",
       "3  1.11512\n",
       "4  1.14400"
      ]
     },
     "execution_count": 59,
     "metadata": {},
     "output_type": "execute_result"
    }
   ],
   "source": [
    "df_res = pd.DataFrame(res)\n",
    "df_res"
   ]
  },
  {
   "cell_type": "code",
   "execution_count": 61,
   "metadata": {},
   "outputs": [],
   "source": [
    "from bokeh.plotting import figure, show, output_file\n",
    "from bokeh.models import Span\n",
    "from math import pi"
   ]
  },
  {
   "cell_type": "code",
   "execution_count": 62,
   "metadata": {},
   "outputs": [],
   "source": [
    "inc = df.c > df.o\n",
    "dec = df.o > df.c\n",
    "w = 12*60*60*1000 # half day in ms\n",
    "\n",
    "TOOLS = \"pan,wheel_zoom,box_zoom,reset,save\""
   ]
  },
  {
   "cell_type": "code",
   "execution_count": 63,
   "metadata": {},
   "outputs": [],
   "source": [
    "p = figure(x_axis_type=\"datetime\", tools=TOOLS, plot_width=1000, title = instrument + \"Currency Pair\")\n",
    "p.xaxis.major_label_orientation = pi/4\n",
    "p.grid.grid_line_alpha=0.3"
   ]
  },
  {
   "cell_type": "code",
   "execution_count": 65,
   "metadata": {},
   "outputs": [],
   "source": [
    "p.segment(df.just_date, df.h, df.just_date, df.l, color=\"black\")\n",
    "p.vbar(df.just_date[inc], w, df.o[inc], df.c[inc], fill_color=\"#D5E1DD\", line_color=\"black\")\n",
    "p.vbar(df.just_date[dec], w, df.o[dec], df.c[dec], fill_color=\"#F2583E\", line_color=\"black\")\n",
    "\n",
    "for i in df_res[0]:\n",
    "    #print (i)\n",
    "    hline_res = Span(location=i, dimension='width', line_color='green', line_width=3)\n",
    "    hline_sup = Span(location=i, dimension='width', line_color='red', line_width=3)\n",
    "    p.renderers.extend([hline_res])\n",
    "    \n",
    "for i in df_sup[0]:\n",
    "    #print (i)\n",
    "    hline_sup = Span(location=i, dimension='width', line_color='red', line_width=3)\n",
    "    p.renderers.extend([hline_sup])\n",
    "\n",
    "#p.renderers.extend([hline])"
   ]
  },
  {
   "cell_type": "code",
   "execution_count": 66,
   "metadata": {},
   "outputs": [],
   "source": [
    "output_file(instrument+\".html\", title=instrument+\" Currency Pair\")\n",
    "\n",
    "show(p)  # open a browser"
   ]
  },
  {
   "cell_type": "code",
   "execution_count": 69,
   "metadata": {},
   "outputs": [
    {
     "data": {
      "image/png": "[encoded data removed]",
      "text/plain": [
       "<Figure size 864x648 with 1 Axes>"
      ]
     },
     "metadata": {
      "needs_background": "light"
     },
     "output_type": "display_data"
    }
   ],
   "source": [
    "title = 'EURUSD'\n",
    "ycoords_sup = sup\n",
    "ycoords_res = res\n",
    "# colors for the lines\n",
    "colors = ['b', 'g', 'r', 'c', 'm', 'y', 'k', 'w']\n",
    "\n",
    "for ycs,ycr,c in zip(ycoords_sup,ycoords_res,colors):\n",
    "    plt.axhline(y=ycs, label='support at y = {}'.format(ycs), c=c)\n",
    "    plt.axhline(y=ycr, label='resistance at y = {}'.format(ycr), c=c)\n",
    "close.plot(figsize=(12,9),grid=True, title = title)\n",
    "\n",
    "plt.xticks(rotation=90)\n",
    "plt.xlabel('Date')\n",
    "plt.legend()\n",
    "\n",
    "# Create new directory\n",
    "#output_dir = \"/home/routinelife/labs.neuralmarkettrends.com\"\n",
    "# mkdir_p(output_dir)\n",
    "\n",
    "\n",
    "#plt.savefig(+ title + '-chart.png')\n",
    "plt.show()\n",
    "#fig.savefig('{}/graph.png'.format(output_dir))"
   ]
  },
  {
   "cell_type": "code",
   "execution_count": null,
   "metadata": {},
   "outputs": [],
   "source": [
    "#TODO, add in 'squishy zones'"
   ]
  }
 ],
 "metadata": {
  "kernelspec": {
   "display_name": "Python 3",
   "language": "python",
   "name": "python3"
  },
  "language_info": {
   "codemirror_mode": {
    "name": "ipython",
    "version": 3
   },
   "file_extension": ".py",
   "mimetype": "text/x-python",
   "name": "python",
   "nbconvert_exporter": "python",
   "pygments_lexer": "ipython3",
   "version": "3.7.6"
  }
 },
 "nbformat": 4,
 "nbformat_minor": 2
}
