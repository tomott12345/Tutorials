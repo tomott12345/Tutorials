{
 "cells": [
  {
   "cell_type": "code",
   "execution_count": 1,
   "metadata": {},
   "outputs": [],
   "source": [
    "#Install Py Package from: https://github.com/hootnot/oanda-api-v20\n",
    "#https://oanda-api-v20.readthedocs.io/en/latest/oanda-api-v20.html\n",
    "\n",
    "import json\n",
    "import oandapyV20\n",
    "import oandapyV20.endpoints.instruments as instruments\n",
    "from oandapyV20.contrib.factories import InstrumentsCandlesFactory\n",
    "#from exampleauth import exampleAuth\n",
    "\n",
    "import datetime as DT\n",
    "\n",
    "import pandas as pd\n",
    "from pandas.io.json import json_normalize\n",
    "\n",
    "from scipy.signal import savgol_filter as smooth\n",
    "import matplotlib.pyplot as plt\n",
    "\n",
    "import numpy as np"
   ]
  },
  {
   "cell_type": "code",
   "execution_count": 2,
   "metadata": {},
   "outputs": [],
   "source": [
    "def exampleAuth():\n",
    "    accountID, token = None, None\n",
    "    with open(\"./oanda_account/account.txt\") as I:\n",
    "        accountID = I.read().strip()\n",
    "    with open(\"./oanda_account/token.txt\") as I:\n",
    "        token = I.read().strip()\n",
    "    return accountID, token"
   ]
  },
  {
   "cell_type": "code",
   "execution_count": 3,
   "metadata": {},
   "outputs": [],
   "source": [
    "accountID, access_token = exampleAuth()\n",
    "client = oandapyV20.API(access_token=access_token)"
   ]
  },
  {
   "cell_type": "code",
   "execution_count": 4,
   "metadata": {},
   "outputs": [],
   "source": [
    "today = DT.date.today()\n",
    "two_years_ago = today - DT.timedelta(days=720)\n",
    "\n",
    "t = today.timetuple()\n",
    "y = two_years_ago.timetuple()"
   ]
  },
  {
   "cell_type": "code",
   "execution_count": 5,
   "metadata": {},
   "outputs": [
    {
     "data": {
      "text/plain": [
       "datetime.date(2018, 5, 6)"
      ]
     },
     "execution_count": 5,
     "metadata": {},
     "output_type": "execute_result"
    }
   ],
   "source": [
    "two_years_ago"
   ]
  },
  {
   "cell_type": "code",
   "execution_count": 6,
   "metadata": {},
   "outputs": [],
   "source": [
    "instrument = \"EUR_USD\"\n",
    "params = {\n",
    "    \"from\": \"2018-01-01T00:00:00Z\",\n",
    "    \"granularity\": \"D\",\n",
    "    \"count\": 720,\n",
    "}\n",
    "r = instruments.InstrumentsCandles(instrument=instrument, params=params)\n",
    "response = client.request(r)\n",
    "#print(\"Request: {}  #candles received: {}\".format(r, len(r.response.get('candles'))))\n",
    "#print(json.dumps(response, indent=2))"
   ]
  },
  {
   "cell_type": "code",
   "execution_count": 7,
   "metadata": {},
   "outputs": [],
   "source": [
    "df = pd.DataFrame(response['candles']).set_index('time')"
   ]
  },
  {
   "cell_type": "code",
   "execution_count": 8,
   "metadata": {},
   "outputs": [],
   "source": [
    "df = df['mid']"
   ]
  },
  {
   "cell_type": "code",
   "execution_count": 9,
   "metadata": {},
   "outputs": [],
   "source": [
    "time_df = pd.DataFrame(response['candles'])\n",
    "time = time_df['time']"
   ]
  },
  {
   "cell_type": "code",
   "execution_count": 10,
   "metadata": {},
   "outputs": [],
   "source": [
    "df = json_normalize(df).astype(float)"
   ]
  },
  {
   "cell_type": "code",
   "execution_count": 11,
   "metadata": {},
   "outputs": [],
   "source": [
    "df = pd.merge(df, time, how='inner', left_index=True, right_index=True)"
   ]
  },
  {
   "cell_type": "code",
   "execution_count": 12,
   "metadata": {},
   "outputs": [],
   "source": [
    "df['just_date'] = pd.to_datetime(df['time']).dt.date"
   ]
  },
  {
   "cell_type": "code",
   "execution_count": 13,
   "metadata": {},
   "outputs": [],
   "source": [
    "#df"
   ]
  },
  {
   "cell_type": "code",
   "execution_count": 14,
   "metadata": {},
   "outputs": [],
   "source": [
    "#df = df.set_index('just_date')"
   ]
  },
  {
   "cell_type": "code",
   "execution_count": 15,
   "metadata": {},
   "outputs": [],
   "source": [
    "#df"
   ]
  },
  {
   "cell_type": "code",
   "execution_count": 16,
   "metadata": {},
   "outputs": [
    {
     "data": {
      "text/plain": [
       "o            float64\n",
       "h            float64\n",
       "l            float64\n",
       "c            float64\n",
       "time          object\n",
       "just_date     object\n",
       "dtype: object"
      ]
     },
     "execution_count": 16,
     "metadata": {},
     "output_type": "execute_result"
    }
   ],
   "source": [
    "df.dtypes"
   ]
  },
  {
   "cell_type": "code",
   "execution_count": 17,
   "metadata": {},
   "outputs": [],
   "source": [
    "close = df['c']"
   ]
  },
  {
   "cell_type": "code",
   "execution_count": 18,
   "metadata": {},
   "outputs": [],
   "source": [
    "data = close.to_numpy()"
   ]
  },
  {
   "cell_type": "code",
   "execution_count": 19,
   "metadata": {},
   "outputs": [],
   "source": [
    "#Set Lookback period\n",
    "time = 20"
   ]
  },
  {
   "cell_type": "code",
   "execution_count": 20,
   "metadata": {},
   "outputs": [],
   "source": [
    "def support(ltp, n):\n",
    "    \"\"\"\n",
    "    This function takes a numpy array of last traded price\n",
    "    and returns a list of support and resistance levels \n",
    "    respectively. n is the number of entries to be scanned.\n",
    "    \"\"\"\n",
    "\n",
    "    # converting n to a nearest even number\n",
    "    if n % 2 != 0:\n",
    "        n += 1\n",
    "\n",
    "    n_ltp = ltp.shape[0]\n",
    "\n",
    "    # smoothening the curve\n",
    "    ltp_s = smooth(ltp, (n + 1), 3)\n",
    "\n",
    "    # taking a simple derivative\n",
    "    ltp_d = np.zeros(n_ltp)\n",
    "    ltp_d[1:] = np.subtract(ltp_s[1:], ltp_s[:-1])\n",
    "\n",
    "    resistance = []\n",
    "    support = []\n",
    "\n",
    "    for i in range(n_ltp - n):\n",
    "        arr_sl = ltp_d[i:(i + n)]\n",
    "        first = arr_sl[:(n // 2)]  # first half\n",
    "        last = arr_sl[(n // 2):]  # second half\n",
    "\n",
    "        r_1 = np.sum(first > 0)\n",
    "        r_2 = np.sum(last < 0)\n",
    "\n",
    "        s_1 = np.sum(first < 0)\n",
    "        s_2 = np.sum(last > 0)\n",
    "\n",
    "        # local maxima detection\n",
    "        if (r_1 == (n // 2)) and (r_2 == (n // 2)):\n",
    "            resistance.append(ltp[i + ((n // 2) - 1)])\n",
    "\n",
    "        # local minima detection\n",
    "        if (s_1 == (n // 2)) and (s_2 == (n // 2)):\n",
    "            support.append(ltp[i + ((n // 2) - 1)])\n",
    "\n",
    "    return support\n"
   ]
  },
  {
   "cell_type": "code",
   "execution_count": 21,
   "metadata": {},
   "outputs": [],
   "source": [
    "sup = support(data, time)"
   ]
  },
  {
   "cell_type": "code",
   "execution_count": 22,
   "metadata": {},
   "outputs": [
    {
     "data": {
      "text/html": [
       "<div>\n",
       "<style scoped>\n",
       "    .dataframe tbody tr th:only-of-type {\n",
       "        vertical-align: middle;\n",
       "    }\n",
       "\n",
       "    .dataframe tbody tr th {\n",
       "        vertical-align: top;\n",
       "    }\n",
       "\n",
       "    .dataframe thead th {\n",
       "        text-align: right;\n",
       "    }\n",
       "</style>\n",
       "<table border=\"1\" class=\"dataframe\">\n",
       "  <thead>\n",
       "    <tr style=\"text-align: right;\">\n",
       "      <th></th>\n",
       "      <th>0</th>\n",
       "    </tr>\n",
       "  </thead>\n",
       "  <tbody>\n",
       "    <tr>\n",
       "      <th>0</th>\n",
       "      <td>1.13436</td>\n",
       "    </tr>\n",
       "    <tr>\n",
       "      <th>1</th>\n",
       "      <td>1.08986</td>\n",
       "    </tr>\n",
       "    <tr>\n",
       "      <th>2</th>\n",
       "      <td>1.07916</td>\n",
       "    </tr>\n",
       "  </tbody>\n",
       "</table>\n",
       "</div>"
      ],
      "text/plain": [
       "         0\n",
       "0  1.13436\n",
       "1  1.08986\n",
       "2  1.07916"
      ]
     },
     "execution_count": 22,
     "metadata": {},
     "output_type": "execute_result"
    }
   ],
   "source": [
    "df_sup = pd.DataFrame(sup)\n",
    "df_sup"
   ]
  },
  {
   "cell_type": "code",
   "execution_count": 23,
   "metadata": {},
   "outputs": [],
   "source": [
    "def resistance(ltp, n):\n",
    "    \"\"\"\n",
    "    This function takes a numpy array of last traded price\n",
    "    and returns a list of support and resistance levels \n",
    "    respectively. n is the number of entries to be scanned.\n",
    "    \"\"\"\n",
    "\n",
    "    # converting n to a nearest even number\n",
    "    if n % 2 != 0:\n",
    "        n += 1\n",
    "\n",
    "    n_ltp = ltp.shape[0]\n",
    "\n",
    "    # smoothening the curve\n",
    "    ltp_s = smooth(ltp, (n + 1), 3)\n",
    "\n",
    "    # taking a simple derivative\n",
    "    ltp_d = np.zeros(n_ltp)\n",
    "    ltp_d[1:] = np.subtract(ltp_s[1:], ltp_s[:-1])\n",
    "\n",
    "    resistance = []\n",
    "    support = []\n",
    "\n",
    "    for i in range(n_ltp - n):\n",
    "        arr_sl = ltp_d[i:(i + n)]\n",
    "        first = arr_sl[:(n // 2)]  # first half\n",
    "        last = arr_sl[(n // 2):]  # second half\n",
    "\n",
    "        r_1 = np.sum(first > 0)\n",
    "        r_2 = np.sum(last < 0)\n",
    "\n",
    "        s_1 = np.sum(first < 0)\n",
    "        s_2 = np.sum(last > 0)\n",
    "\n",
    "        # local maxima detection\n",
    "        if (r_1 == (n // 2)) and (r_2 == (n // 2)):\n",
    "            resistance.append(ltp[i + ((n // 2) - 1)])\n",
    "\n",
    "        # local minima detection\n",
    "        if (s_1 == (n // 2)) and (s_2 == (n // 2)):\n",
    "            support.append(ltp[i + ((n // 2) - 1)])\n",
    "\n",
    "    return resistance"
   ]
  },
  {
   "cell_type": "code",
   "execution_count": 24,
   "metadata": {},
   "outputs": [],
   "source": [
    "res = resistance(data, time)\n"
   ]
  },
  {
   "cell_type": "code",
   "execution_count": 25,
   "metadata": {},
   "outputs": [
    {
     "data": {
      "text/html": [
       "<div>\n",
       "<style scoped>\n",
       "    .dataframe tbody tr th:only-of-type {\n",
       "        vertical-align: middle;\n",
       "    }\n",
       "\n",
       "    .dataframe tbody tr th {\n",
       "        vertical-align: top;\n",
       "    }\n",
       "\n",
       "    .dataframe thead th {\n",
       "        text-align: right;\n",
       "    }\n",
       "</style>\n",
       "<table border=\"1\" class=\"dataframe\">\n",
       "  <thead>\n",
       "    <tr style=\"text-align: right;\">\n",
       "      <th></th>\n",
       "      <th>0</th>\n",
       "    </tr>\n",
       "  </thead>\n",
       "  <tbody>\n",
       "    <tr>\n",
       "      <th>0</th>\n",
       "      <td>1.24024</td>\n",
       "    </tr>\n",
       "    <tr>\n",
       "      <th>1</th>\n",
       "      <td>1.13694</td>\n",
       "    </tr>\n",
       "    <tr>\n",
       "      <th>2</th>\n",
       "      <td>1.10795</td>\n",
       "    </tr>\n",
       "    <tr>\n",
       "      <th>3</th>\n",
       "      <td>1.11512</td>\n",
       "    </tr>\n",
       "    <tr>\n",
       "      <th>4</th>\n",
       "      <td>1.14400</td>\n",
       "    </tr>\n",
       "  </tbody>\n",
       "</table>\n",
       "</div>"
      ],
      "text/plain": [
       "         0\n",
       "0  1.24024\n",
       "1  1.13694\n",
       "2  1.10795\n",
       "3  1.11512\n",
       "4  1.14400"
      ]
     },
     "execution_count": 25,
     "metadata": {},
     "output_type": "execute_result"
    }
   ],
   "source": [
    "df_res = pd.DataFrame(res)\n",
    "df_res"
   ]
  },
  {
   "cell_type": "code",
   "execution_count": 26,
   "metadata": {},
   "outputs": [],
   "source": [
    "#start_date = df.just_date.min()\n",
    "#end_date = df.just_date.max()\n",
    "#support_line = 1.0800"
   ]
  },
  {
   "cell_type": "code",
   "execution_count": 27,
   "metadata": {},
   "outputs": [],
   "source": [
    "from bokeh.plotting import figure, show, output_file\n",
    "from bokeh.models import Span\n",
    "from math import pi"
   ]
  },
  {
   "cell_type": "code",
   "execution_count": 28,
   "metadata": {},
   "outputs": [],
   "source": [
    "inc = df.c > df.o\n",
    "dec = df.o > df.c\n",
    "w = 12*60*60*1000 # half day in ms\n",
    "\n",
    "TOOLS = \"pan,wheel_zoom,box_zoom,reset,save\""
   ]
  },
  {
   "cell_type": "code",
   "execution_count": 29,
   "metadata": {},
   "outputs": [],
   "source": [
    "p = figure(x_axis_type=\"datetime\", tools=TOOLS, plot_width=1000, title = instrument + \"Currency Pair\")\n",
    "p.xaxis.major_label_orientation = pi/4\n",
    "p.grid.grid_line_alpha=0.3\n",
    "\n"
   ]
  },
  {
   "cell_type": "code",
   "execution_count": 30,
   "metadata": {},
   "outputs": [],
   "source": [
    "# Horizontal line\n",
    "#for line in sup:\n",
    "#    hline_sup = Span(location=sup, dimension='width', line_color='green', line_width=3)\n",
    "#    hline_res = Span(location=sup, dimension='width', line_color='red', line_width=3)\n",
    "#\n"
   ]
  },
  {
   "cell_type": "code",
   "execution_count": 31,
   "metadata": {},
   "outputs": [],
   "source": [
    "p.segment(df.just_date, df.h, df.just_date, df.l, color=\"black\")\n",
    "p.vbar(df.just_date[inc], w, df.o[inc], df.c[inc], fill_color=\"#D5E1DD\", line_color=\"black\")\n",
    "p.vbar(df.just_date[dec], w, df.o[dec], df.c[dec], fill_color=\"#F2583E\", line_color=\"black\")\n",
    "\n",
    "\n",
    "\n",
    "for i in df_res[0]:\n",
    "    #print (i)\n",
    "    hline_res = Span(location=i, dimension='width', line_color='green', line_width=3)\n",
    "    hline_sup = Span(location=i, dimension='width', line_color='red', line_width=3)\n",
    "    p.renderers.extend([hline_res])\n",
    "    \n",
    "for i in df_sup[0]:\n",
    "    #print (i)\n",
    "    hline_sup = Span(location=i, dimension='width', line_color='red', line_width=3)\n",
    "    p.renderers.extend([hline_sup])\n",
    "\n",
    "#p.renderers.extend([hline])"
   ]
  },
  {
   "cell_type": "code",
   "execution_count": 32,
   "metadata": {},
   "outputs": [],
   "source": [
    "output_file(instrument+\".html\", title=instrument+\" Currency Pair\")\n",
    "\n",
    "show(p)  # open a browser"
   ]
  },
  {
   "cell_type": "code",
   "execution_count": null,
   "metadata": {},
   "outputs": [],
   "source": []
  },
  {
   "cell_type": "code",
   "execution_count": 33,
   "metadata": {},
   "outputs": [],
   "source": [
    "import pandas as pd\n",
    "import numpy as np\n",
    "from bokeh.plotting import figure, show\n",
    "\n",
    "#toy_df = pd.DataFrame(data=np.random.rand(5,3), columns = ('a', 'b' ,'c'), index = pd.DatetimeIndex(start='01-01-2015',periods=5, freq='d'))   \n",
    "\n",
    "ts_list_of_list = []\n",
    "for i in range(0,len(df_sup.columns)):\n",
    "    ts_list_of_list.append(df_sup.index)\n",
    "\n",
    "vals_list_of_list = df_sup.values.T.tolist()\n",
    "\n",
    "p = figure(width=1200, height=900, x_axis_type=\"datetime\") \n",
    "p.multi_line(ts_list_of_list, vals_list_of_list)\n",
    "show(p)"
   ]
  },
  {
   "cell_type": "code",
   "execution_count": null,
   "metadata": {},
   "outputs": [],
   "source": []
  },
  {
   "cell_type": "code",
   "execution_count": null,
   "metadata": {},
   "outputs": [],
   "source": []
  },
  {
   "cell_type": "code",
   "execution_count": null,
   "metadata": {},
   "outputs": [],
   "source": []
  },
  {
   "cell_type": "code",
   "execution_count": null,
   "metadata": {},
   "outputs": [],
   "source": []
  },
  {
   "cell_type": "code",
   "execution_count": null,
   "metadata": {},
   "outputs": [],
   "source": []
  },
  {
   "cell_type": "code",
   "execution_count": null,
   "metadata": {},
   "outputs": [],
   "source": []
  },
  {
   "cell_type": "code",
   "execution_count": 34,
   "metadata": {},
   "outputs": [
    {
     "ename": "TypeError",
     "evalue": "bad operand type for unary +: 'str'",
     "output_type": "error",
     "traceback": [
      "\u001b[0;31m---------------------------------------------------------------------------\u001b[0m",
      "\u001b[0;31mTypeError\u001b[0m                                 Traceback (most recent call last)",
      "\u001b[0;32m<ipython-input-34-9e02d7abd75e>\u001b[0m in \u001b[0;36m<module>\u001b[0;34m\u001b[0m\n\u001b[1;32m     19\u001b[0m \u001b[0;34m\u001b[0m\u001b[0m\n\u001b[1;32m     20\u001b[0m \u001b[0;34m\u001b[0m\u001b[0m\n\u001b[0;32m---> 21\u001b[0;31m \u001b[0mplt\u001b[0m\u001b[0;34m.\u001b[0m\u001b[0msavefig\u001b[0m\u001b[0;34m(\u001b[0m\u001b[0;34m+\u001b[0m \u001b[0mtitle\u001b[0m \u001b[0;34m+\u001b[0m \u001b[0;34m'-chart.png'\u001b[0m\u001b[0;34m)\u001b[0m\u001b[0;34m\u001b[0m\u001b[0;34m\u001b[0m\u001b[0m\n\u001b[0m\u001b[1;32m     22\u001b[0m \u001b[0mplt\u001b[0m\u001b[0;34m.\u001b[0m\u001b[0mshow\u001b[0m\u001b[0;34m(\u001b[0m\u001b[0;34m)\u001b[0m\u001b[0;34m\u001b[0m\u001b[0;34m\u001b[0m\u001b[0m\n\u001b[1;32m     23\u001b[0m \u001b[0;34m\u001b[0m\u001b[0m\n",
      "\u001b[0;31mTypeError\u001b[0m: bad operand type for unary +: 'str'"
     ]
    },
    {
     "data": {
      "image/png": "[encoded data removed]",
      "text/plain": [
       "<Figure size 864x648 with 1 Axes>"
      ]
     },
     "metadata": {
      "needs_background": "light"
     },
     "output_type": "display_data"
    }
   ],
   "source": [
    "title = 'EURUSD'\n",
    "ycoords_sup = sup\n",
    "ycoords_res = res\n",
    "# colors for the lines\n",
    "colors = ['b', 'g', 'r', 'c', 'm', 'y', 'k', 'w']\n",
    "\n",
    "for ycs,ycr,c in zip(ycoords_sup,ycoords_res,colors):\n",
    "    plt.axhline(y=ycs, label='support at y = {}'.format(ycs), c=c)\n",
    "    plt.axhline(y=ycr, label='resistance at y = {}'.format(ycr), c=c)\n",
    "close.plot(figsize=(12,9),grid=True, title = title)\n",
    "\n",
    "plt.xticks(rotation=90)\n",
    "plt.xlabel('Date')\n",
    "plt.legend()\n",
    "\n",
    "# Create new directory\n",
    "output_dir = \"/home/routinelife/labs.neuralmarkettrends.com\"\n",
    "# mkdir_p(output_dir)\n",
    "\n",
    "\n",
    "plt.savefig(+ title + '-chart.png')\n",
    "plt.show()\n",
    "\n",
    "\n",
    "\n",
    "#fig.savefig('{}/graph.png'.format(output_dir))"
   ]
  },
  {
   "cell_type": "code",
   "execution_count": null,
   "metadata": {},
   "outputs": [],
   "source": [
    "#TODO, add in 'squishy zones'"
   ]
  }
 ],
 "metadata": {
  "kernelspec": {
   "display_name": "Python 3",
   "language": "python",
   "name": "python3"
  },
  "language_info": {
   "codemirror_mode": {
    "name": "ipython",
    "version": 3
   },
   "file_extension": ".py",
   "mimetype": "text/x-python",
   "name": "python",
   "nbconvert_exporter": "python",
   "pygments_lexer": "ipython3",
   "version": "3.7.6"
  }
 },
 "nbformat": 4,
 "nbformat_minor": 2
}
