{
 "cells": [
  {
   "cell_type": "markdown",
   "metadata": {},
   "source": [
    "## README!\n",
    "\n",
    "This notebook uses the Oanada datafeed from their v20 API. You will need to get a dev token to run this code. You will need to put your account # and dev token into two seperate files called account.txt and token.txt in a sub folder called 'oanda_account.' You may change this by make sure to update the def exampleAuth function. \n",
    "\n",
    "Install Py Package from: https://github.com/hootnot/oanda-api-v20 and the ReadTheDocs are here: https://oanda-api-v20.readthedocs.io/en/latest/oanda-api-v20.html\n",
    "\n",
    "This is the first version of the Autogenerating Support and Resistance Lines and it makes a matplotlib chart. The  subsquent notebook will contain Bokeh charting.\n",
    "\n",
    "### To Do\n",
    "\n",
    "There are many things I need to do to clean up this notebook for my readers. Especially explaining what I'm doing here and what I tweaked out. So look for updates or ping me on Twitter @neuralmarket\n"
   ]
  },
  {
   "cell_type": "code",
   "execution_count": 1,
   "metadata": {},
   "outputs": [],
   "source": [
    "#Initialize python libraries\n",
    "\n",
    "import json\n",
    "import oandapyV20\n",
    "import oandapyV20.endpoints.instruments as instruments\n",
    "from oandapyV20.contrib.factories import InstrumentsCandlesFactory\n",
    "\n",
    "import datetime as DT\n",
    "\n",
    "import pandas as pd\n",
    "from pandas.io.json import json_normalize\n",
    "\n",
    "from scipy.signal import savgol_filter as smooth\n",
    "import matplotlib.pyplot as plt\n",
    "\n",
    "import numpy as np"
   ]
  },
  {
   "cell_type": "code",
   "execution_count": 2,
   "metadata": {},
   "outputs": [],
   "source": [
    "#This function just reads your account.txt and token.txt file. I have NOT included this in the repo, you will have to provide your own.\n",
    "def exampleAuth():\n",
    "    accountID, token = None, None\n",
    "    with open(\"./oanda_account/account.txt\") as I:\n",
    "        accountID = I.read().strip()\n",
    "    with open(\"./oanda_account/token.txt\") as I:\n",
    "        token = I.read().strip()\n",
    "    return accountID, token"
   ]
  },
  {
   "cell_type": "code",
   "execution_count": 3,
   "metadata": {},
   "outputs": [],
   "source": [
    "#Connect to your Account!\n",
    "\n",
    "accountID, access_token = exampleAuth()\n",
    "client = oandapyV20.API(access_token=access_token)"
   ]
  },
  {
   "cell_type": "code",
   "execution_count": 4,
   "metadata": {},
   "outputs": [],
   "source": [
    "#Some datetime work. I tried to make this simple so I grab today's date and then go back 720 days to generate the chart. That's two years!\n",
    "today = DT.date.today()\n",
    "two_years_ago = today - DT.timedelta(days=720)\n",
    "\n",
    "t = today.timetuple()\n",
    "y = two_years_ago.timetuple()"
   ]
  },
  {
   "cell_type": "code",
   "execution_count": 5,
   "metadata": {},
   "outputs": [],
   "source": [
    "instrument = \"EUR_USD\"\n",
    "params = {\n",
    "    \"from\": two_years_ago,\n",
    "    \"granularity\": \"D\",\n",
    "    \"count\": 720,\n",
    "}\n",
    "\n",
    "r = instruments.InstrumentsCandles(instrument=instrument, params=params)\n",
    "response = client.request(r)"
   ]
  },
  {
   "cell_type": "code",
   "execution_count": 6,
   "metadata": {},
   "outputs": [],
   "source": [
    "df = pd.DataFrame(response['candles']).set_index('time')"
   ]
  },
  {
   "cell_type": "code",
   "execution_count": 7,
   "metadata": {},
   "outputs": [],
   "source": [
    "df = df['mid']"
   ]
  },
  {
   "cell_type": "code",
   "execution_count": 8,
   "metadata": {},
   "outputs": [],
   "source": [
    "time_df = pd.DataFrame(response['candles'])\n",
    "time = time_df['time']"
   ]
  },
  {
   "cell_type": "code",
   "execution_count": 9,
   "metadata": {},
   "outputs": [],
   "source": [
    "df = json_normalize(df).astype(float)"
   ]
  },
  {
   "cell_type": "code",
   "execution_count": 10,
   "metadata": {},
   "outputs": [],
   "source": [
    "df = pd.merge(df, time, how='inner', left_index=True, right_index=True)"
   ]
  },
  {
   "cell_type": "code",
   "execution_count": 11,
   "metadata": {},
   "outputs": [],
   "source": [
    "df['just_date'] = pd.to_datetime(df['time']).dt.date"
   ]
  },
  {
   "cell_type": "code",
   "execution_count": 12,
   "metadata": {},
   "outputs": [
    {
     "data": {
      "text/plain": [
       "c            float64\n",
       "h            float64\n",
       "l            float64\n",
       "o            float64\n",
       "time          object\n",
       "just_date     object\n",
       "dtype: object"
      ]
     },
     "execution_count": 12,
     "metadata": {},
     "output_type": "execute_result"
    }
   ],
   "source": [
    "df.dtypes"
   ]
  },
  {
   "cell_type": "code",
   "execution_count": 13,
   "metadata": {},
   "outputs": [],
   "source": [
    "close = df['c']"
   ]
  },
  {
   "cell_type": "code",
   "execution_count": 14,
   "metadata": {},
   "outputs": [],
   "source": [
    "data = close.to_numpy()"
   ]
  },
  {
   "cell_type": "code",
   "execution_count": 15,
   "metadata": {},
   "outputs": [],
   "source": [
    "#Set Lookback period\n",
    "time = 20"
   ]
  },
  {
   "cell_type": "code",
   "execution_count": 16,
   "metadata": {},
   "outputs": [],
   "source": [
    "def support(ltp, n):\n",
    "    \"\"\"\n",
    "    This function takes a numpy array of last traded price\n",
    "    and returns a list of support and resistance levels \n",
    "    respectively. n is the number of entries to be scanned.\n",
    "    \"\"\"\n",
    "\n",
    "    # converting n to a nearest even number\n",
    "    if n % 2 != 0:\n",
    "        n += 1\n",
    "\n",
    "    n_ltp = ltp.shape[0]\n",
    "\n",
    "    # smoothening the curve\n",
    "    ltp_s = smooth(ltp, (n + 1), 3)\n",
    "\n",
    "    # taking a simple derivative\n",
    "    ltp_d = np.zeros(n_ltp)\n",
    "    ltp_d[1:] = np.subtract(ltp_s[1:], ltp_s[:-1])\n",
    "\n",
    "    resistance = []\n",
    "    support = []\n",
    "\n",
    "    for i in range(n_ltp - n):\n",
    "        arr_sl = ltp_d[i:(i + n)]\n",
    "        first = arr_sl[:(n // 2)]  # first half\n",
    "        last = arr_sl[(n // 2):]  # second half\n",
    "\n",
    "        r_1 = np.sum(first > 0)\n",
    "        r_2 = np.sum(last < 0)\n",
    "\n",
    "        s_1 = np.sum(first < 0)\n",
    "        s_2 = np.sum(last > 0)\n",
    "\n",
    "        # local maxima detection\n",
    "        if (r_1 == (n // 2)) and (r_2 == (n // 2)):\n",
    "            resistance.append(ltp[i + ((n // 2) - 1)])\n",
    "\n",
    "        # local minima detection\n",
    "        if (s_1 == (n // 2)) and (s_2 == (n // 2)):\n",
    "            support.append(ltp[i + ((n // 2) - 1)])\n",
    "\n",
    "    return support\n"
   ]
  },
  {
   "cell_type": "code",
   "execution_count": 17,
   "metadata": {},
   "outputs": [],
   "source": [
    "sup = support(data, time)"
   ]
  },
  {
   "cell_type": "code",
   "execution_count": 18,
   "metadata": {},
   "outputs": [
    {
     "data": {
      "text/html": [
       "<div>\n",
       "<style scoped>\n",
       "    .dataframe tbody tr th:only-of-type {\n",
       "        vertical-align: middle;\n",
       "    }\n",
       "\n",
       "    .dataframe tbody tr th {\n",
       "        vertical-align: top;\n",
       "    }\n",
       "\n",
       "    .dataframe thead th {\n",
       "        text-align: right;\n",
       "    }\n",
       "</style>\n",
       "<table border=\"1\" class=\"dataframe\">\n",
       "  <thead>\n",
       "    <tr style=\"text-align: right;\">\n",
       "      <th></th>\n",
       "      <th>0</th>\n",
       "    </tr>\n",
       "  </thead>\n",
       "  <tbody>\n",
       "    <tr>\n",
       "      <th>0</th>\n",
       "      <td>1.08986</td>\n",
       "    </tr>\n",
       "    <tr>\n",
       "      <th>1</th>\n",
       "      <td>1.07916</td>\n",
       "    </tr>\n",
       "  </tbody>\n",
       "</table>\n",
       "</div>"
      ],
      "text/plain": [
       "         0\n",
       "0  1.08986\n",
       "1  1.07916"
      ]
     },
     "execution_count": 18,
     "metadata": {},
     "output_type": "execute_result"
    }
   ],
   "source": [
    "df_sup = pd.DataFrame(sup)\n",
    "df_sup"
   ]
  },
  {
   "cell_type": "code",
   "execution_count": 19,
   "metadata": {},
   "outputs": [],
   "source": [
    "def resistance(ltp, n):\n",
    "    \"\"\"\n",
    "    This function takes a numpy array of last traded price\n",
    "    and returns a list of support and resistance levels \n",
    "    respectively. n is the number of entries to be scanned.\n",
    "    \"\"\"\n",
    "\n",
    "    # converting n to a nearest even number\n",
    "    if n % 2 != 0:\n",
    "        n += 1\n",
    "\n",
    "    n_ltp = ltp.shape[0]\n",
    "\n",
    "    # smoothening the curve\n",
    "    ltp_s = smooth(ltp, (n + 1), 3)\n",
    "\n",
    "    # taking a simple derivative\n",
    "    ltp_d = np.zeros(n_ltp)\n",
    "    ltp_d[1:] = np.subtract(ltp_s[1:], ltp_s[:-1])\n",
    "\n",
    "    resistance = []\n",
    "    support = []\n",
    "\n",
    "    for i in range(n_ltp - n):\n",
    "        arr_sl = ltp_d[i:(i + n)]\n",
    "        first = arr_sl[:(n // 2)]  # first half\n",
    "        last = arr_sl[(n // 2):]  # second half\n",
    "\n",
    "        r_1 = np.sum(first > 0)\n",
    "        r_2 = np.sum(last < 0)\n",
    "\n",
    "        s_1 = np.sum(first < 0)\n",
    "        s_2 = np.sum(last > 0)\n",
    "\n",
    "        # local maxima detection\n",
    "        if (r_1 == (n // 2)) and (r_2 == (n // 2)):\n",
    "            resistance.append(ltp[i + ((n // 2) - 1)])\n",
    "\n",
    "        # local minima detection\n",
    "        if (s_1 == (n // 2)) and (s_2 == (n // 2)):\n",
    "            support.append(ltp[i + ((n // 2) - 1)])\n",
    "\n",
    "    return resistance"
   ]
  },
  {
   "cell_type": "code",
   "execution_count": 20,
   "metadata": {},
   "outputs": [],
   "source": [
    "res = resistance(data, time)"
   ]
  },
  {
   "cell_type": "code",
   "execution_count": 21,
   "metadata": {},
   "outputs": [
    {
     "data": {
      "text/html": [
       "<div>\n",
       "<style scoped>\n",
       "    .dataframe tbody tr th:only-of-type {\n",
       "        vertical-align: middle;\n",
       "    }\n",
       "\n",
       "    .dataframe tbody tr th {\n",
       "        vertical-align: top;\n",
       "    }\n",
       "\n",
       "    .dataframe thead th {\n",
       "        text-align: right;\n",
       "    }\n",
       "</style>\n",
       "<table border=\"1\" class=\"dataframe\">\n",
       "  <thead>\n",
       "    <tr style=\"text-align: right;\">\n",
       "      <th></th>\n",
       "      <th>0</th>\n",
       "    </tr>\n",
       "  </thead>\n",
       "  <tbody>\n",
       "    <tr>\n",
       "      <th>0</th>\n",
       "      <td>1.17776</td>\n",
       "    </tr>\n",
       "    <tr>\n",
       "      <th>1</th>\n",
       "      <td>1.13694</td>\n",
       "    </tr>\n",
       "    <tr>\n",
       "      <th>2</th>\n",
       "      <td>1.10795</td>\n",
       "    </tr>\n",
       "    <tr>\n",
       "      <th>3</th>\n",
       "      <td>1.11512</td>\n",
       "    </tr>\n",
       "    <tr>\n",
       "      <th>4</th>\n",
       "      <td>1.14400</td>\n",
       "    </tr>\n",
       "  </tbody>\n",
       "</table>\n",
       "</div>"
      ],
      "text/plain": [
       "         0\n",
       "0  1.17776\n",
       "1  1.13694\n",
       "2  1.10795\n",
       "3  1.11512\n",
       "4  1.14400"
      ]
     },
     "execution_count": 21,
     "metadata": {},
     "output_type": "execute_result"
    }
   ],
   "source": [
    "df_res = pd.DataFrame(res)\n",
    "df_res"
   ]
  },
  {
   "cell_type": "code",
   "execution_count": 22,
   "metadata": {},
   "outputs": [
    {
     "data": {
      "image/png": "[encoded data removed]",
      "text/plain": [
       "<Figure size 864x648 with 1 Axes>"
      ]
     },
     "metadata": {
      "needs_background": "light"
     },
     "output_type": "display_data"
    }
   ],
   "source": [
    "title = 'EURUSD'\n",
    "ycoords_sup = sup\n",
    "ycoords_res = res\n",
    "# colors for the lines\n",
    "colors = ['b', 'g', 'r', 'c', 'm', 'y', 'k', 'w']\n",
    "\n",
    "for ycs,ycr,c in zip(ycoords_sup,ycoords_res,colors):\n",
    "    plt.axhline(y=ycs, label='support at y = {}'.format(ycs), c=c)\n",
    "    plt.axhline(y=ycr, label='resistance at y = {}'.format(ycr), c=c)\n",
    "close.plot(figsize=(12,9),grid=True, title = title)\n",
    "\n",
    "plt.xticks(rotation=90)\n",
    "plt.xlabel('Date')\n",
    "plt.legend()\n",
    "\n",
    "# Create new directory\n",
    "#output_dir = \"/home/routinelife/labs.neuralmarkettrends.com\"\n",
    "# mkdir_p(output_dir)\n",
    "\n",
    "\n",
    "#plt.savefig(+ title + '-chart.png')\n",
    "plt.show()\n",
    "#fig.savefig('{}/graph.png'.format(output_dir))"
   ]
  },
  {
   "cell_type": "code",
   "execution_count": 23,
   "metadata": {},
   "outputs": [
    {
     "data": {
      "text/html": [
       "\n",
       "    <div class=\"bk-root\">\n",
       "        <a href=\"https://bokeh.org\" target=\"_blank\" class=\"bk-logo bk-logo-small bk-logo-notebook\"></a>\n",
       "        <span id=\"1001\">Loading BokehJS ...</span>\n",
       "    </div>"
      ]
     },
     "metadata": {},
     "output_type": "display_data"
    },
    {
     "data": {
      "application/javascript": [
       "\n",
       "(function(root) {\n",
       "  function now() {\n",
       "    return new Date();\n",
       "  }\n",
       "\n",
       "  var force = true;\n",
       "\n",
       "  if (typeof root._bokeh_onload_callbacks === \"undefined\" || force === true) {\n",
       "    root._bokeh_onload_callbacks = [];\n",
       "    root._bokeh_is_loading = undefined;\n",
       "  }\n",
       "\n",
       "  var JS_MIME_TYPE = 'application/javascript';\n",
       "  var HTML_MIME_TYPE = 'text/html';\n",
       "  var EXEC_MIME_TYPE = 'application/vnd.bokehjs_exec.v0+json';\n",
       "  var CLASS_NAME = 'output_bokeh rendered_html';\n",
       "\n",
       "  /**\n",
       "   * Render data to the DOM node\n",
       "   */\n",
       "  function render(props, node) {\n",
       "    var script = document.createElement(\"script\");\n",
       "    node.appendChild(script);\n",
       "  }\n",
       "\n",
       "  /**\n",
       "   * Handle when an output is cleared or removed\n",
       "   */\n",
       "  function handleClearOutput(event, handle) {\n",
       "    var cell = handle.cell;\n",
       "\n",
       "    var id = cell.output_area._bokeh_element_id;\n",
       "    var server_id = cell.output_area._bokeh_server_id;\n",
       "    // Clean up Bokeh references\n",
       "    if (id != null && id in Bokeh.index) {\n",
       "      Bokeh.index[id].model.document.clear();\n",
       "      delete Bokeh.index[id];\n",
       "    }\n",
       "\n",
       "    if (server_id !== undefined) {\n",
       "      // Clean up Bokeh references\n",
       "      var cmd = \"from bokeh.io.state import curstate; print(curstate().uuid_to_server['\" + server_id + \"'].get_sessions()[0].document.roots[0]._id)\";\n",
       "      cell.notebook.kernel.execute(cmd, {\n",
       "        iopub: {\n",
       "          output: function(msg) {\n",
       "            var id = msg.content.text.trim();\n",
       "            if (id in Bokeh.index) {\n",
       "              Bokeh.index[id].model.document.clear();\n",
       "              delete Bokeh.index[id];\n",
       "            }\n",
       "          }\n",
       "        }\n",
       "      });\n",
       "      // Destroy server and session\n",
       "      var cmd = \"import bokeh.io.notebook as ion; ion.destroy_server('\" + server_id + \"')\";\n",
       "      cell.notebook.kernel.execute(cmd);\n",
       "    }\n",
       "  }\n",
       "\n",
       "  /**\n",
       "   * Handle when a new output is added\n",
       "   */\n",
       "  function handleAddOutput(event, handle) {\n",
       "    var output_area = handle.output_area;\n",
       "    var output = handle.output;\n",
       "\n",
       "    // limit handleAddOutput to display_data with EXEC_MIME_TYPE content only\n",
       "    if ((output.output_type != \"display_data\") || (!output.data.hasOwnProperty(EXEC_MIME_TYPE))) {\n",
       "      return\n",
       "    }\n",
       "\n",
       "    var toinsert = output_area.element.find(\".\" + CLASS_NAME.split(' ')[0]);\n",
       "\n",
       "    if (output.metadata[EXEC_MIME_TYPE][\"id\"] !== undefined) {\n",
       "      toinsert[toinsert.length - 1].firstChild.textContent = output.data[JS_MIME_TYPE];\n",
       "      // store reference to embed id on output_area\n",
       "      output_area._bokeh_element_id = output.metadata[EXEC_MIME_TYPE][\"id\"];\n",
       "    }\n",
       "    if (output.metadata[EXEC_MIME_TYPE][\"server_id\"] !== undefined) {\n",
       "      var bk_div = document.createElement(\"div\");\n",
       "      bk_div.innerHTML = output.data[HTML_MIME_TYPE];\n",
       "      var script_attrs = bk_div.children[0].attributes;\n",
       "      for (var i = 0; i < script_attrs.length; i++) {\n",
       "        toinsert[toinsert.length - 1].firstChild.setAttribute(script_attrs[i].name, script_attrs[i].value);\n",
       "      }\n",
       "      // store reference to server id on output_area\n",
       "      output_area._bokeh_server_id = output.metadata[EXEC_MIME_TYPE][\"server_id\"];\n",
       "    }\n",
       "  }\n",
       "\n",
       "  function register_renderer(events, OutputArea) {\n",
       "\n",
       "    function append_mime(data, metadata, element) {\n",
       "      // create a DOM node to render to\n",
       "      var toinsert = this.create_output_subarea(\n",
       "        metadata,\n",
       "        CLASS_NAME,\n",
       "        EXEC_MIME_TYPE\n",
       "      );\n",
       "      this.keyboard_manager.register_events(toinsert);\n",
       "      // Render to node\n",
       "      var props = {data: data, metadata: metadata[EXEC_MIME_TYPE]};\n",
       "      render(props, toinsert[toinsert.length - 1]);\n",
       "      element.append(toinsert);\n",
       "      return toinsert\n",
       "    }\n",
       "\n",
       "    /* Handle when an output is cleared or removed */\n",
       "    events.on('clear_output.CodeCell', handleClearOutput);\n",
       "    events.on('delete.Cell', handleClearOutput);\n",
       "\n",
       "    /* Handle when a new output is added */\n",
       "    events.on('output_added.OutputArea', handleAddOutput);\n",
       "\n",
       "    /**\n",
       "     * Register the mime type and append_mime function with output_area\n",
       "     */\n",
       "    OutputArea.prototype.register_mime_type(EXEC_MIME_TYPE, append_mime, {\n",
       "      /* Is output safe? */\n",
       "      safe: true,\n",
       "      /* Index of renderer in `output_area.display_order` */\n",
       "      index: 0\n",
       "    });\n",
       "  }\n",
       "\n",
       "  // register the mime type if in Jupyter Notebook environment and previously unregistered\n",
       "  if (root.Jupyter !== undefined) {\n",
       "    var events = require('base/js/events');\n",
       "    var OutputArea = require('notebook/js/outputarea').OutputArea;\n",
       "\n",
       "    if (OutputArea.prototype.mime_types().indexOf(EXEC_MIME_TYPE) == -1) {\n",
       "      register_renderer(events, OutputArea);\n",
       "    }\n",
       "  }\n",
       "\n",
       "  \n",
       "  if (typeof (root._bokeh_timeout) === \"undefined\" || force === true) {\n",
       "    root._bokeh_timeout = Date.now() + 5000;\n",
       "    root._bokeh_failed_load = false;\n",
       "  }\n",
       "\n",
       "  var NB_LOAD_WARNING = {'data': {'text/html':\n",
       "     \"<div style='background-color: #fdd'>\\n\"+\n",
       "     \"<p>\\n\"+\n",
       "     \"BokehJS does not appear to have successfully loaded. If loading BokehJS from CDN, this \\n\"+\n",
       "     \"may be due to a slow or bad network connection. Possible fixes:\\n\"+\n",
       "     \"</p>\\n\"+\n",
       "     \"<ul>\\n\"+\n",
       "     \"<li>re-rerun `output_notebook()` to attempt to load from CDN again, or</li>\\n\"+\n",
       "     \"<li>use INLINE resources instead, as so:</li>\\n\"+\n",
       "     \"</ul>\\n\"+\n",
       "     \"<code>\\n\"+\n",
       "     \"from bokeh.resources import INLINE\\n\"+\n",
       "     \"output_notebook(resources=INLINE)\\n\"+\n",
       "     \"</code>\\n\"+\n",
       "     \"</div>\"}};\n",
       "\n",
       "  function display_loaded() {\n",
       "    var el = document.getElementById(\"1001\");\n",
       "    if (el != null) {\n",
       "      el.textContent = \"BokehJS is loading...\";\n",
       "    }\n",
       "    if (root.Bokeh !== undefined) {\n",
       "      if (el != null) {\n",
       "        el.textContent = \"BokehJS \" + root.Bokeh.version + \" successfully loaded.\";\n",
       "      }\n",
       "    } else if (Date.now() < root._bokeh_timeout) {\n",
       "      setTimeout(display_loaded, 100)\n",
       "    }\n",
       "  }\n",
       "\n",
       "\n",
       "  function run_callbacks() {\n",
       "    try {\n",
       "      root._bokeh_onload_callbacks.forEach(function(callback) {\n",
       "        if (callback != null)\n",
       "          callback();\n",
       "      });\n",
       "    } finally {\n",
       "      delete root._bokeh_onload_callbacks\n",
       "    }\n",
       "    console.debug(\"Bokeh: all callbacks have finished\");\n",
       "  }\n",
       "\n",
       "  function load_libs(css_urls, js_urls, callback) {\n",
       "    if (css_urls == null) css_urls = [];\n",
       "    if (js_urls == null) js_urls = [];\n",
       "\n",
       "    root._bokeh_onload_callbacks.push(callback);\n",
       "    if (root._bokeh_is_loading > 0) {\n",
       "      console.debug(\"Bokeh: BokehJS is being loaded, scheduling callback at\", now());\n",
       "      return null;\n",
       "    }\n",
       "    if (js_urls == null || js_urls.length === 0) {\n",
       "      run_callbacks();\n",
       "      return null;\n",
       "    }\n",
       "    console.debug(\"Bokeh: BokehJS not loaded, scheduling load and callback at\", now());\n",
       "    root._bokeh_is_loading = css_urls.length + js_urls.length;\n",
       "\n",
       "    function on_load() {\n",
       "      root._bokeh_is_loading--;\n",
       "      if (root._bokeh_is_loading === 0) {\n",
       "        console.debug(\"Bokeh: all BokehJS libraries/stylesheets loaded\");\n",
       "        run_callbacks()\n",
       "      }\n",
       "    }\n",
       "\n",
       "    function on_error() {\n",
       "      console.error(\"failed to load \" + url);\n",
       "    }\n",
       "\n",
       "    for (var i = 0; i < css_urls.length; i++) {\n",
       "      var url = css_urls[i];\n",
       "      const element = document.createElement(\"link\");\n",
       "      element.onload = on_load;\n",
       "      element.onerror = on_error;\n",
       "      element.rel = \"stylesheet\";\n",
       "      element.type = \"text/css\";\n",
       "      element.href = url;\n",
       "      console.debug(\"Bokeh: injecting link tag for BokehJS stylesheet: \", url);\n",
       "      document.body.appendChild(element);\n",
       "    }\n",
       "\n",
       "    for (var i = 0; i < js_urls.length; i++) {\n",
       "      var url = js_urls[i];\n",
       "      var element = document.createElement('script');\n",
       "      element.onload = on_load;\n",
       "      element.onerror = on_error;\n",
       "      element.async = false;\n",
       "      element.src = url;\n",
       "      console.debug(\"Bokeh: injecting script tag for BokehJS library: \", url);\n",
       "      document.head.appendChild(element);\n",
       "    }\n",
       "  };var element = document.getElementById(\"1001\");\n",
       "  if (element == null) {\n",
       "    console.error(\"Bokeh: ERROR: autoload.js configured with elementid '1001' but no matching script tag was found. \")\n",
       "    return false;\n",
       "  }\n",
       "\n",
       "  function inject_raw_css(css) {\n",
       "    const element = document.createElement(\"style\");\n",
       "    element.appendChild(document.createTextNode(css));\n",
       "    document.body.appendChild(element);\n",
       "  }\n",
       "\n",
       "  \n",
       "  var js_urls = [\"https://cdn.pydata.org/bokeh/release/bokeh-1.4.0.min.js\", \"https://cdn.pydata.org/bokeh/release/bokeh-widgets-1.4.0.min.js\", \"https://cdn.pydata.org/bokeh/release/bokeh-tables-1.4.0.min.js\", \"https://cdn.pydata.org/bokeh/release/bokeh-gl-1.4.0.min.js\"];\n",
       "  var css_urls = [];\n",
       "  \n",
       "\n",
       "  var inline_js = [\n",
       "    function(Bokeh) {\n",
       "      Bokeh.set_log_level(\"info\");\n",
       "    },\n",
       "    function(Bokeh) {\n",
       "    \n",
       "    \n",
       "    }\n",
       "  ];\n",
       "\n",
       "  function run_inline_js() {\n",
       "    \n",
       "    if (root.Bokeh !== undefined || force === true) {\n",
       "      \n",
       "    for (var i = 0; i < inline_js.length; i++) {\n",
       "      inline_js[i].call(root, root.Bokeh);\n",
       "    }\n",
       "    if (force === true) {\n",
       "        display_loaded();\n",
       "      }} else if (Date.now() < root._bokeh_timeout) {\n",
       "      setTimeout(run_inline_js, 100);\n",
       "    } else if (!root._bokeh_failed_load) {\n",
       "      console.log(\"Bokeh: BokehJS failed to load within specified timeout.\");\n",
       "      root._bokeh_failed_load = true;\n",
       "    } else if (force !== true) {\n",
       "      var cell = $(document.getElementById(\"1001\")).parents('.cell').data().cell;\n",
       "      cell.output_area.append_execute_result(NB_LOAD_WARNING)\n",
       "    }\n",
       "\n",
       "  }\n",
       "\n",
       "  if (root._bokeh_is_loading === 0) {\n",
       "    console.debug(\"Bokeh: BokehJS loaded, going straight to plotting\");\n",
       "    run_inline_js();\n",
       "  } else {\n",
       "    load_libs(css_urls, js_urls, function() {\n",
       "      console.debug(\"Bokeh: BokehJS plotting callback run at\", now());\n",
       "      run_inline_js();\n",
       "    });\n",
       "  }\n",
       "}(window));"
      ],
      "application/vnd.bokehjs_load.v0+json": "\n(function(root) {\n  function now() {\n    return new Date();\n  }\n\n  var force = true;\n\n  if (typeof root._bokeh_onload_callbacks === \"undefined\" || force === true) {\n    root._bokeh_onload_callbacks = [];\n    root._bokeh_is_loading = undefined;\n  }\n\n  \n\n  \n  if (typeof (root._bokeh_timeout) === \"undefined\" || force === true) {\n    root._bokeh_timeout = Date.now() + 5000;\n    root._bokeh_failed_load = false;\n  }\n\n  var NB_LOAD_WARNING = {'data': {'text/html':\n     \"<div style='background-color: #fdd'>\\n\"+\n     \"<p>\\n\"+\n     \"BokehJS does not appear to have successfully loaded. If loading BokehJS from CDN, this \\n\"+\n     \"may be due to a slow or bad network connection. Possible fixes:\\n\"+\n     \"</p>\\n\"+\n     \"<ul>\\n\"+\n     \"<li>re-rerun `output_notebook()` to attempt to load from CDN again, or</li>\\n\"+\n     \"<li>use INLINE resources instead, as so:</li>\\n\"+\n     \"</ul>\\n\"+\n     \"<code>\\n\"+\n     \"from bokeh.resources import INLINE\\n\"+\n     \"output_notebook(resources=INLINE)\\n\"+\n     \"</code>\\n\"+\n     \"</div>\"}};\n\n  function display_loaded() {\n    var el = document.getElementById(\"1001\");\n    if (el != null) {\n      el.textContent = \"BokehJS is loading...\";\n    }\n    if (root.Bokeh !== undefined) {\n      if (el != null) {\n        el.textContent = \"BokehJS \" + root.Bokeh.version + \" successfully loaded.\";\n      }\n    } else if (Date.now() < root._bokeh_timeout) {\n      setTimeout(display_loaded, 100)\n    }\n  }\n\n\n  function run_callbacks() {\n    try {\n      root._bokeh_onload_callbacks.forEach(function(callback) {\n        if (callback != null)\n          callback();\n      });\n    } finally {\n      delete root._bokeh_onload_callbacks\n    }\n    console.debug(\"Bokeh: all callbacks have finished\");\n  }\n\n  function load_libs(css_urls, js_urls, callback) {\n    if (css_urls == null) css_urls = [];\n    if (js_urls == null) js_urls = [];\n\n    root._bokeh_onload_callbacks.push(callback);\n    if (root._bokeh_is_loading > 0) {\n      console.debug(\"Bokeh: BokehJS is being loaded, scheduling callback at\", now());\n      return null;\n    }\n    if (js_urls == null || js_urls.length === 0) {\n      run_callbacks();\n      return null;\n    }\n    console.debug(\"Bokeh: BokehJS not loaded, scheduling load and callback at\", now());\n    root._bokeh_is_loading = css_urls.length + js_urls.length;\n\n    function on_load() {\n      root._bokeh_is_loading--;\n      if (root._bokeh_is_loading === 0) {\n        console.debug(\"Bokeh: all BokehJS libraries/stylesheets loaded\");\n        run_callbacks()\n      }\n    }\n\n    function on_error() {\n      console.error(\"failed to load \" + url);\n    }\n\n    for (var i = 0; i < css_urls.length; i++) {\n      var url = css_urls[i];\n      const element = document.createElement(\"link\");\n      element.onload = on_load;\n      element.onerror = on_error;\n      element.rel = \"stylesheet\";\n      element.type = \"text/css\";\n      element.href = url;\n      console.debug(\"Bokeh: injecting link tag for BokehJS stylesheet: \", url);\n      document.body.appendChild(element);\n    }\n\n    for (var i = 0; i < js_urls.length; i++) {\n      var url = js_urls[i];\n      var element = document.createElement('script');\n      element.onload = on_load;\n      element.onerror = on_error;\n      element.async = false;\n      element.src = url;\n      console.debug(\"Bokeh: injecting script tag for BokehJS library: \", url);\n      document.head.appendChild(element);\n    }\n  };var element = document.getElementById(\"1001\");\n  if (element == null) {\n    console.error(\"Bokeh: ERROR: autoload.js configured with elementid '1001' but no matching script tag was found. \")\n    return false;\n  }\n\n  function inject_raw_css(css) {\n    const element = document.createElement(\"style\");\n    element.appendChild(document.createTextNode(css));\n    document.body.appendChild(element);\n  }\n\n  \n  var js_urls = [\"https://cdn.pydata.org/bokeh/release/bokeh-1.4.0.min.js\", \"https://cdn.pydata.org/bokeh/release/bokeh-widgets-1.4.0.min.js\", \"https://cdn.pydata.org/bokeh/release/bokeh-tables-1.4.0.min.js\", \"https://cdn.pydata.org/bokeh/release/bokeh-gl-1.4.0.min.js\"];\n  var css_urls = [];\n  \n\n  var inline_js = [\n    function(Bokeh) {\n      Bokeh.set_log_level(\"info\");\n    },\n    function(Bokeh) {\n    \n    \n    }\n  ];\n\n  function run_inline_js() {\n    \n    if (root.Bokeh !== undefined || force === true) {\n      \n    for (var i = 0; i < inline_js.length; i++) {\n      inline_js[i].call(root, root.Bokeh);\n    }\n    if (force === true) {\n        display_loaded();\n      }} else if (Date.now() < root._bokeh_timeout) {\n      setTimeout(run_inline_js, 100);\n    } else if (!root._bokeh_failed_load) {\n      console.log(\"Bokeh: BokehJS failed to load within specified timeout.\");\n      root._bokeh_failed_load = true;\n    } else if (force !== true) {\n      var cell = $(document.getElementById(\"1001\")).parents('.cell').data().cell;\n      cell.output_area.append_execute_result(NB_LOAD_WARNING)\n    }\n\n  }\n\n  if (root._bokeh_is_loading === 0) {\n    console.debug(\"Bokeh: BokehJS loaded, going straight to plotting\");\n    run_inline_js();\n  } else {\n    load_libs(css_urls, js_urls, function() {\n      console.debug(\"Bokeh: BokehJS plotting callback run at\", now());\n      run_inline_js();\n    });\n  }\n}(window));"
     },
     "metadata": {},
     "output_type": "display_data"
    }
   ],
   "source": [
    "from bokeh.plotting import figure, show, output_file, output_notebook\n",
    "from bokeh.models import Span\n",
    "from math import pi\n",
    "output_notebook()"
   ]
  },
  {
   "cell_type": "code",
   "execution_count": 24,
   "metadata": {},
   "outputs": [],
   "source": [
    "inc = df.c > df.o\n",
    "dec = df.o > df.c\n",
    "w = 12*60*60*1000 # half day in ms\n",
    "\n",
    "TOOLS = \"pan,wheel_zoom,box_zoom,reset,save\""
   ]
  },
  {
   "cell_type": "code",
   "execution_count": 25,
   "metadata": {},
   "outputs": [],
   "source": [
    "p = figure(x_axis_type=\"datetime\", tools=TOOLS, plot_width=1000, title = instrument + \"Currency Pair\")\n",
    "p.xaxis.major_label_orientation = pi/4\n",
    "p.grid.grid_line_alpha=0.3"
   ]
  },
  {
   "cell_type": "code",
   "execution_count": 26,
   "metadata": {},
   "outputs": [],
   "source": [
    "p.segment(df.just_date, df.h, df.just_date, df.l, color=\"black\")\n",
    "p.vbar(df.just_date[inc], w, df.o[inc], df.c[inc], fill_color=\"#D5E1DD\", line_color=\"black\")\n",
    "p.vbar(df.just_date[dec], w, df.o[dec], df.c[dec], fill_color=\"#F2583E\", line_color=\"black\")\n",
    "\n",
    "for i in df_res[0]:\n",
    "    #print (i)\n",
    "    hline_res = Span(location=i, dimension='width', line_color='green', line_width=3)\n",
    "    hline_sup = Span(location=i, dimension='width', line_color='red', line_width=3)\n",
    "    p.renderers.extend([hline_res])\n",
    "    \n",
    "for i in df_sup[0]:\n",
    "    #print (i)\n",
    "    hline_sup = Span(location=i, dimension='width', line_color='red', line_width=3)\n",
    "    p.renderers.extend([hline_sup])\n",
    "\n",
    "#p.renderers.extend([hline])"
   ]
  },
  {
   "cell_type": "code",
   "execution_count": 27,
   "metadata": {},
   "outputs": [
    {
     "data": {
      "text/html": [
       "\n",
       "\n",
       "\n",
       "\n",
       "\n",
       "\n",
       "  <div class=\"bk-root\" id=\"7944f9ec-02bc-4b4a-8c57-0595687bf89b\" data-root-id=\"1002\"></div>\n"
      ]
     },
     "metadata": {},
     "output_type": "display_data"
    },
    {
     "data": {
      "application/javascript": [
       "(function(root) {\n",
       "  function embed_document(root) {\n",
       "    \n",
       "  var docs_json = {\"bd6e4b29-e09f-4746-a8b0-c133647be429\":{\"roots\":{\"references\":[{\"attributes\":{\"below\":[{\"id\":\"1013\",\"type\":\"DatetimeAxis\"}],\"center\":[{\"id\":\"1017\",\"type\":\"Grid\"},{\"id\":\"1022\",\"type\":\"Grid\"}],\"left\":[{\"id\":\"1018\",\"type\":\"LinearAxis\"}],\"plot_width\":1000,\"renderers\":[{\"id\":\"1037\",\"type\":\"GlyphRenderer\"},{\"id\":\"1042\",\"type\":\"GlyphRenderer\"},{\"id\":\"1047\",\"type\":\"GlyphRenderer\"},{\"id\":\"1049\",\"type\":\"Span\"},{\"id\":\"1051\",\"type\":\"Span\"},{\"id\":\"1053\",\"type\":\"Span\"},{\"id\":\"1055\",\"type\":\"Span\"},{\"id\":\"1057\",\"type\":\"Span\"},{\"id\":\"1059\",\"type\":\"Span\"},{\"id\":\"1060\",\"type\":\"Span\"}],\"title\":{\"id\":\"1003\",\"type\":\"Title\"},\"toolbar\":{\"id\":\"1028\",\"type\":\"Toolbar\"},\"x_range\":{\"id\":\"1005\",\"type\":\"DataRange1d\"},\"x_scale\":{\"id\":\"1009\",\"type\":\"LinearScale\"},\"y_range\":{\"id\":\"1007\",\"type\":\"DataRange1d\"},\"y_scale\":{\"id\":\"1011\",\"type\":\"LinearScale\"}},\"id\":\"1002\",\"subtype\":\"Figure\",\"type\":\"Plot\"},{\"attributes\":{\"line_color\":{\"value\":\"green\"},\"line_width\":{\"value\":3},\"location\":1.13694},\"id\":\"1051\",\"type\":\"Span\"},{\"attributes\":{\"months\":[0,2,4,6,8,10]},\"id\":\"1074\",\"type\":\"MonthsTicker\"},{\"attributes\":{},\"id\":\"1080\",\"type\":\"UnionRenderers\"},{\"attributes\":{\"source\":{\"id\":\"1039\",\"type\":\"ColumnDataSource\"}},\"id\":\"1043\",\"type\":\"CDSView\"},{\"attributes\":{},\"id\":\"1027\",\"type\":\"SaveTool\"},{\"attributes\":{},\"id\":\"1009\",\"type\":\"LinearScale\"},{\"attributes\":{\"callback\":null},\"id\":\"1007\",\"type\":\"DataRange1d\"},{\"attributes\":{\"formatter\":{\"id\":\"1064\",\"type\":\"BasicTickFormatter\"},\"ticker\":{\"id\":\"1019\",\"type\":\"BasicTicker\"}},\"id\":\"1018\",\"type\":\"LinearAxis\"},{\"attributes\":{\"bottom\":{\"field\":\"bottom\"},\"fill_alpha\":{\"value\":0.1},\"fill_color\":{\"value\":\"#1f77b4\"},\"line_alpha\":{\"value\":0.1},\"line_color\":{\"value\":\"#1f77b4\"},\"top\":{\"field\":\"top\"},\"width\":{\"value\":43200000},\"x\":{\"field\":\"x\"}},\"id\":\"1041\",\"type\":\"VBar\"},{\"attributes\":{},\"id\":\"1011\",\"type\":\"LinearScale\"},{\"attributes\":{},\"id\":\"1064\",\"type\":\"BasicTickFormatter\"},{\"attributes\":{\"callback\":null,\"data\":{\"bottom\":{\"__ndarray__\":\"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\",\"dtype\":\"float64\",\"shape\":[258]},\"top\":{\"__ndarray__\":\"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\",\"dtype\":\"float64\",\"shape\":[258]},\"x\":[1535846400000.0,1536019200000.0,1536451200000.0,1536537600000.0,1536624000000.0,1536710400000.0,1537056000000.0,1537228800000.0,1537315200000.0,1537660800000.0,1537747200000.0,1538524800000.0,1538611200000.0,1538956800000.0,1539043200000.0,1539129600000.0,1539475200000.0,1539820800000.0,1540166400000.0,1540425600000.0,1540944000000.0,1541289600000.0,1541376000000.0,1541980800000.0,1542067200000.0,1542153600000.0,1542240000000.0,1542499200000.0,1542672000000.0,1542758400000.0,1543276800000.0,1543363200000.0,1543708800000.0,1543881600000.0,1543968000000.0,1544054400000.0,1544486400000.0,1544918400000.0,1545004800000.0,1545091200000.0,1545177600000.0,1545523200000.0,1545782400000.0,1545868800000.0,1546128000000.0,1546387200000.0,1546473600000.0,1546732800000.0,1546905600000.0,1547337600000.0,1547942400000.0,1548115200000.0,1548288000000.0,1548547200000.0,1548633600000.0,1548720000000.0,1548892800000.0,1549843200000.0,1550016000000.0,1550361600000.0,1550448000000.0,1550966400000.0,1551052800000.0,1551225600000.0,1551916800000.0,1552176000000.0,1552262400000.0,1552348800000.0,1552521600000.0,1552780800000.0,1552867200000.0,1552953600000.0,1553385600000.0,1554163200000.0,1554595200000.0,1554768000000.0,1554940800000.0,1555372800000.0,1555545600000.0,1555804800000.0,1556150400000.0,1556409600000.0,1556496000000.0,1556755200000.0,1557014400000.0,1557187200000.0,1557273600000.0,1557360000000.0,1558224000000.0,1558483200000.0,1558569600000.0,1559174400000.0,1559433600000.0,1559520000000.0,1559692800000.0,1559779200000.0,1560124800000.0,1560643200000.0,1560816000000.0,1560902400000.0,1560988800000.0,1561248000000.0,1561420800000.0,1561507200000.0,1561593600000.0,1561939200000.0,1562112000000.0,1562630400000.0,1562716800000.0,1562803200000.0,1563235200000.0,1563321600000.0,1563926400000.0,1564272000000.0,1564358400000.0,1564531200000.0,1564617600000.0,1564876800000.0,1565222400000.0,1565481600000.0,1566172800000.0,1566432000000.0,1567382400000.0,1567468800000.0,1567900800000.0,1568160000000.0,1568246400000.0,1568592000000.0,1568764800000.0,1569196800000.0,1569456000000.0,1569801600000.0,1569888000000.0,1569974400000.0,1570060800000.0,1570492800000.0,1570579200000.0,1570665600000.0,1571011200000.0,1571097600000.0,1571184000000.0,1571270400000.0,1571702400000.0,1572134400000.0,1572220800000.0,1572307200000.0,1572393600000.0,1572480000000.0,1573344000000.0,1573603200000.0,1573689600000.0,1573948800000.0,1574035200000.0,1574640000000.0,1574812800000.0,1574899200000.0,1575158400000.0,1575244800000.0,1575417600000.0,1575763200000.0,1575849600000.0,1575936000000.0,1576022400000.0,1576368000000.0,1576454400000.0,1576627200000.0,1576972800000.0,1577232000000.0,1577318400000.0,1577577600000.0,1577664000000.0,1578182400000.0,1578441600000.0,1578528000000.0,1578787200000.0,1578960000000.0,1579392000000.0,1579564800000.0,1580083200000.0,1580256000000.0,1580342400000.0,1581292800000.0,1581984000000.0,1582156800000.0,1582416000000.0,1582502400000.0,1582675200000.0,1582761600000.0,1583020800000.0,1583107200000.0,1583280000000.0,1583366400000.0,1583625600000.0,1584230400000.0,1584576000000.0,1584835200000.0,1584921600000.0,1585008000000.0,1585094400000.0,1585180800000.0,1586131200000.0,1586304000000.0,1586390400000.0,1586736000000.0,1586995200000.0,1587600000000.0,1587859200000.0,1588032000000.0,1588118400000.0,1588204800000.0,1588723200000.0,1588809600000.0,1589155200000.0,1589414400000.0,1589673600000.0,1589760000000.0,1589846400000.0,1590364800000.0,1590451200000.0,1590537600000.0,1590624000000.0,1590883200000.0,1590969600000.0,1591056000000.0,1591142400000.0,1591574400000.0,1591660800000.0,1592092800000.0,1592697600000.0,1592784000000.0,1593043200000.0,1593302400000.0,1593475200000.0,1593648000000.0,1593907200000.0,1594080000000.0,1594252800000.0,1594512000000.0,1594598400000.0,1594684800000.0,1594857600000.0,1595116800000.0,1595203200000.0,1595289600000.0,1595376000000.0,1595462400000.0,1595721600000.0,1595894400000.0,1595980800000.0,1596412800000.0,1596499200000.0,1596585600000.0,1597017600000.0,1597104000000.0,1597190400000.0,1597276800000.0,1597536000000.0,1597622400000.0]},\"selected\":{\"id\":\"1081\",\"type\":\"Selection\"},\"selection_policy\":{\"id\":\"1080\",\"type\":\"UnionRenderers\"}},\"id\":\"1039\",\"type\":\"ColumnDataSource\"},{\"attributes\":{\"months\":[0,6]},\"id\":\"1076\",\"type\":\"MonthsTicker\"},{\"attributes\":{\"line_alpha\":{\"value\":0.1},\"line_color\":{\"value\":\"#1f77b4\"},\"x0\":{\"field\":\"x0\"},\"x1\":{\"field\":\"x1\"},\"y0\":{\"field\":\"y0\"},\"y1\":{\"field\":\"y1\"}},\"id\":\"1036\",\"type\":\"Segment\"},{\"attributes\":{},\"id\":\"1082\",\"type\":\"UnionRenderers\"},{\"attributes\":{\"formatter\":{\"id\":\"1062\",\"type\":\"DatetimeTickFormatter\"},\"major_label_orientation\":0.7853981633974483,\"ticker\":{\"id\":\"1014\",\"type\":\"DatetimeTicker\"}},\"id\":\"1013\",\"type\":\"DatetimeAxis\"},{\"attributes\":{\"data_source\":{\"id\":\"1039\",\"type\":\"ColumnDataSource\"},\"glyph\":{\"id\":\"1040\",\"type\":\"VBar\"},\"hover_glyph\":null,\"muted_glyph\":null,\"nonselection_glyph\":{\"id\":\"1041\",\"type\":\"VBar\"},\"selection_glyph\":null,\"view\":{\"id\":\"1043\",\"type\":\"CDSView\"}},\"id\":\"1042\",\"type\":\"GlyphRenderer\"},{\"attributes\":{\"callback\":null},\"id\":\"1005\",\"type\":\"DataRange1d\"},{\"attributes\":{\"callback\":null,\"data\":{\"x0\":[1535587200000.0,1535846400000.0,1535932800000.0,1536019200000.0,1536105600000.0,1536192000000.0,1536451200000.0,1536537600000.0,1536624000000.0,1536710400000.0,1536796800000.0,1537056000000.0,1537142400000.0,1537228800000.0,1537315200000.0,1537401600000.0,1537660800000.0,1537747200000.0,1537833600000.0,1537920000000.0,1538006400000.0,1538265600000.0,1538352000000.0,1538438400000.0,1538524800000.0,1538611200000.0,1538870400000.0,1538956800000.0,1539043200000.0,1539129600000.0,1539216000000.0,1539475200000.0,1539561600000.0,1539648000000.0,1539734400000.0,1539820800000.0,1540080000000.0,1540166400000.0,1540252800000.0,1540339200000.0,1540425600000.0,1540684800000.0,1540771200000.0,1540857600000.0,1540944000000.0,1541030400000.0,1541289600000.0,1541376000000.0,1541462400000.0,1541548800000.0,1541635200000.0,1541894400000.0,1541980800000.0,1542067200000.0,1542153600000.0,1542240000000.0,1542499200000.0,1542585600000.0,1542672000000.0,1542758400000.0,1542844800000.0,1543104000000.0,1543190400000.0,1543276800000.0,1543363200000.0,1543449600000.0,1543708800000.0,1543795200000.0,1543881600000.0,1543968000000.0,1544054400000.0,1544313600000.0,1544400000000.0,1544486400000.0,1544572800000.0,1544659200000.0,1544918400000.0,1545004800000.0,1545091200000.0,1545177600000.0,1545264000000.0,1545523200000.0,1545696000000.0,1545782400000.0,1545868800000.0,1546128000000.0,1546300800000.0,1546387200000.0,1546473600000.0,1546732800000.0,1546819200000.0,1546905600000.0,1546992000000.0,1547078400000.0,1547337600000.0,1547424000000.0,1547510400000.0,1547596800000.0,1547683200000.0,1547942400000.0,1548028800000.0,1548115200000.0,1548201600000.0,1548288000000.0,1548547200000.0,1548633600000.0,1548720000000.0,1548806400000.0,1548892800000.0,1549152000000.0,1549238400000.0,1549324800000.0,1549411200000.0,1549497600000.0,1549756800000.0,1549843200000.0,1549929600000.0,1550016000000.0,1550102400000.0,1550361600000.0,1550448000000.0,1550534400000.0,1550620800000.0,1550707200000.0,1550966400000.0,1551052800000.0,1551139200000.0,1551225600000.0,1551312000000.0,1551571200000.0,1551657600000.0,1551744000000.0,1551830400000.0,1551916800000.0,1552176000000.0,1552262400000.0,1552348800000.0,1552435200000.0,1552521600000.0,1552780800000.0,1552867200000.0,1552953600000.0,1553040000000.0,1553126400000.0,1553385600000.0,1553472000000.0,1553558400000.0,1553644800000.0,1553731200000.0,1553990400000.0,1554076800000.0,1554163200000.0,1554249600000.0,1554336000000.0,1554595200000.0,1554681600000.0,1554768000000.0,1554854400000.0,1554940800000.0,1555200000000.0,1555286400000.0,1555372800000.0,1555459200000.0,1555545600000.0,1555804800000.0,1555891200000.0,1555977600000.0,1556064000000.0,1556150400000.0,1556409600000.0,1556496000000.0,1556582400000.0,1556668800000.0,1556755200000.0,1557014400000.0,1557100800000.0,1557187200000.0,1557273600000.0,1557360000000.0,1557619200000.0,1557705600000.0,1557792000000.0,1557878400000.0,1557964800000.0,1558224000000.0,1558310400000.0,1558396800000.0,1558483200000.0,1558569600000.0,1558828800000.0,1558915200000.0,1559001600000.0,1559088000000.0,1559174400000.0,1559433600000.0,1559520000000.0,1559606400000.0,1559692800000.0,1559779200000.0,1560038400000.0,1560124800000.0,1560211200000.0,1560297600000.0,1560384000000.0,1560643200000.0,1560729600000.0,1560816000000.0,1560902400000.0,1560988800000.0,1561248000000.0,1561334400000.0,1561420800000.0,1561507200000.0,1561593600000.0,1561852800000.0,1561939200000.0,1562025600000.0,1562112000000.0,1562198400000.0,1562457600000.0,1562544000000.0,1562630400000.0,1562716800000.0,1562803200000.0,1563062400000.0,1563148800000.0,1563235200000.0,1563321600000.0,1563408000000.0,1563667200000.0,1563753600000.0,1563840000000.0,1563926400000.0,1564012800000.0,1564272000000.0,1564358400000.0,1564444800000.0,1564531200000.0,1564617600000.0,1564876800000.0,1564963200000.0,1565049600000.0,1565136000000.0,1565222400000.0,1565481600000.0,1565568000000.0,1565654400000.0,1565740800000.0,1565827200000.0,1566086400000.0,1566172800000.0,1566259200000.0,1566345600000.0,1566432000000.0,1566691200000.0,1566777600000.0,1566864000000.0,1566950400000.0,1567036800000.0,1567296000000.0,1567382400000.0,1567468800000.0,1567555200000.0,1567641600000.0,1567900800000.0,1567987200000.0,1568073600000.0,1568160000000.0,1568246400000.0,1568505600000.0,1568592000000.0,1568678400000.0,1568764800000.0,1568851200000.0,1569110400000.0,1569196800000.0,1569283200000.0,1569369600000.0,1569456000000.0,1569542400000.0,1569715200000.0,1569801600000.0,1569888000000.0,1569974400000.0,1570060800000.0,1570320000000.0,1570406400000.0,1570492800000.0,1570579200000.0,1570665600000.0,1570924800000.0,1571011200000.0,1571097600000.0,1571184000000.0,1571270400000.0,1571529600000.0,1571616000000.0,1571702400000.0,1571788800000.0,1571875200000.0,1572134400000.0,1572220800000.0,1572307200000.0,1572393600000.0,1572480000000.0,1572739200000.0,1572825600000.0,1572912000000.0,1572998400000.0,1573084800000.0,1573344000000.0,1573430400000.0,1573516800000.0,1573603200000.0,1573689600000.0,1573948800000.0,1574035200000.0,1574121600000.0,1574208000000.0,1574294400000.0,1574553600000.0,1574640000000.0,1574726400000.0,1574812800000.0,1574899200000.0,1575158400000.0,1575244800000.0,1575331200000.0,1575417600000.0,1575504000000.0,1575763200000.0,1575849600000.0,1575936000000.0,1576022400000.0,1576108800000.0,1576368000000.0,1576454400000.0,1576540800000.0,1576627200000.0,1576713600000.0,1576972800000.0,1577059200000.0,1577232000000.0,1577318400000.0,1577577600000.0,1577664000000.0,1577836800000.0,1577923200000.0,1578182400000.0,1578268800000.0,1578355200000.0,1578441600000.0,1578528000000.0,1578787200000.0,1578873600000.0,1578960000000.0,1579046400000.0,1579132800000.0,1579392000000.0,1579478400000.0,1579564800000.0,1579651200000.0,1579737600000.0,1579996800000.0,1580083200000.0,1580169600000.0,1580256000000.0,1580342400000.0,1580601600000.0,1580688000000.0,1580774400000.0,1580860800000.0,1580947200000.0,1581206400000.0,1581292800000.0,1581379200000.0,1581465600000.0,1581552000000.0,1581811200000.0,1581897600000.0,1581984000000.0,1582070400000.0,1582156800000.0,1582416000000.0,1582502400000.0,1582588800000.0,1582675200000.0,1582761600000.0,1583020800000.0,1583107200000.0,1583193600000.0,1583280000000.0,1583366400000.0,1583625600000.0,1583712000000.0,1583798400000.0,1583884800000.0,1583971200000.0,1584230400000.0,1584316800000.0,1584403200000.0,1584489600000.0,1584576000000.0,1584835200000.0,1584921600000.0,1585008000000.0,1585094400000.0,1585180800000.0,1585440000000.0,1585526400000.0,1585612800000.0,1585699200000.0,1585785600000.0,1586044800000.0,1586131200000.0,1586217600000.0,1586304000000.0,1586390400000.0,1586649600000.0,1586736000000.0,1586822400000.0,1586908800000.0,1586995200000.0,1587254400000.0,1587340800000.0,1587427200000.0,1587513600000.0,1587600000000.0,1587859200000.0,1587945600000.0,1588032000000.0,1588118400000.0,1588204800000.0,1588464000000.0,1588550400000.0,1588636800000.0,1588723200000.0,1588809600000.0,1589068800000.0,1589155200000.0,1589241600000.0,1589328000000.0,1589414400000.0,1589673600000.0,1589760000000.0,1589846400000.0,1589932800000.0,1590019200000.0,1590278400000.0,1590364800000.0,1590451200000.0,1590537600000.0,1590624000000.0,1590883200000.0,1590969600000.0,1591056000000.0,1591142400000.0,1591228800000.0,1591488000000.0,1591574400000.0,1591660800000.0,1591747200000.0,1591833600000.0,1592092800000.0,1592179200000.0,1592265600000.0,1592352000000.0,1592438400000.0,1592697600000.0,1592784000000.0,1592870400000.0,1592956800000.0,1593043200000.0,1593302400000.0,1593388800000.0,1593475200000.0,1593561600000.0,1593648000000.0,1593907200000.0,1593993600000.0,1594080000000.0,1594166400000.0,1594252800000.0,1594512000000.0,1594598400000.0,1594684800000.0,1594771200000.0,1594857600000.0,1595116800000.0,1595203200000.0,1595289600000.0,1595376000000.0,1595462400000.0,1595721600000.0,1595808000000.0,1595894400000.0,1595980800000.0,1596067200000.0,1596326400000.0,1596412800000.0,1596499200000.0,1596585600000.0,1596672000000.0,1596931200000.0,1597017600000.0,1597104000000.0,1597190400000.0,1597276800000.0,1597536000000.0,1597622400000.0,1597708800000.0,1597795200000.0],\"x1\":[1535587200000.0,1535846400000.0,1535932800000.0,1536019200000.0,1536105600000.0,1536192000000.0,1536451200000.0,1536537600000.0,1536624000000.0,1536710400000.0,1536796800000.0,1537056000000.0,1537142400000.0,1537228800000.0,1537315200000.0,1537401600000.0,1537660800000.0,1537747200000.0,1537833600000.0,1537920000000.0,1538006400000.0,1538265600000.0,1538352000000.0,1538438400000.0,1538524800000.0,1538611200000.0,1538870400000.0,1538956800000.0,1539043200000.0,1539129600000.0,1539216000000.0,1539475200000.0,1539561600000.0,1539648000000.0,1539734400000.0,1539820800000.0,1540080000000.0,1540166400000.0,1540252800000.0,1540339200000.0,1540425600000.0,1540684800000.0,1540771200000.0,1540857600000.0,1540944000000.0,1541030400000.0,1541289600000.0,1541376000000.0,1541462400000.0,1541548800000.0,1541635200000.0,1541894400000.0,1541980800000.0,1542067200000.0,1542153600000.0,1542240000000.0,1542499200000.0,1542585600000.0,1542672000000.0,1542758400000.0,1542844800000.0,1543104000000.0,1543190400000.0,1543276800000.0,1543363200000.0,1543449600000.0,1543708800000.0,1543795200000.0,1543881600000.0,1543968000000.0,1544054400000.0,1544313600000.0,1544400000000.0,1544486400000.0,1544572800000.0,1544659200000.0,1544918400000.0,1545004800000.0,1545091200000.0,1545177600000.0,1545264000000.0,1545523200000.0,1545696000000.0,1545782400000.0,1545868800000.0,1546128000000.0,1546300800000.0,1546387200000.0,1546473600000.0,1546732800000.0,1546819200000.0,1546905600000.0,1546992000000.0,1547078400000.0,1547337600000.0,1547424000000.0,1547510400000.0,1547596800000.0,1547683200000.0,1547942400000.0,1548028800000.0,1548115200000.0,1548201600000.0,1548288000000.0,1548547200000.0,1548633600000.0,1548720000000.0,1548806400000.0,1548892800000.0,1549152000000.0,1549238400000.0,1549324800000.0,1549411200000.0,1549497600000.0,1549756800000.0,1549843200000.0,1549929600000.0,1550016000000.0,1550102400000.0,1550361600000.0,1550448000000.0,1550534400000.0,1550620800000.0,1550707200000.0,1550966400000.0,1551052800000.0,1551139200000.0,1551225600000.0,1551312000000.0,1551571200000.0,1551657600000.0,1551744000000.0,1551830400000.0,1551916800000.0,1552176000000.0,1552262400000.0,1552348800000.0,1552435200000.0,1552521600000.0,1552780800000.0,1552867200000.0,1552953600000.0,1553040000000.0,1553126400000.0,1553385600000.0,1553472000000.0,1553558400000.0,1553644800000.0,1553731200000.0,1553990400000.0,1554076800000.0,1554163200000.0,1554249600000.0,1554336000000.0,1554595200000.0,1554681600000.0,1554768000000.0,1554854400000.0,1554940800000.0,1555200000000.0,1555286400000.0,1555372800000.0,1555459200000.0,1555545600000.0,1555804800000.0,1555891200000.0,1555977600000.0,1556064000000.0,1556150400000.0,1556409600000.0,1556496000000.0,1556582400000.0,1556668800000.0,1556755200000.0,1557014400000.0,1557100800000.0,1557187200000.0,1557273600000.0,1557360000000.0,1557619200000.0,1557705600000.0,1557792000000.0,1557878400000.0,1557964800000.0,1558224000000.0,1558310400000.0,1558396800000.0,1558483200000.0,1558569600000.0,1558828800000.0,1558915200000.0,1559001600000.0,1559088000000.0,1559174400000.0,1559433600000.0,1559520000000.0,1559606400000.0,1559692800000.0,1559779200000.0,1560038400000.0,1560124800000.0,1560211200000.0,1560297600000.0,1560384000000.0,1560643200000.0,1560729600000.0,1560816000000.0,1560902400000.0,1560988800000.0,1561248000000.0,1561334400000.0,1561420800000.0,1561507200000.0,1561593600000.0,1561852800000.0,1561939200000.0,1562025600000.0,1562112000000.0,1562198400000.0,1562457600000.0,1562544000000.0,1562630400000.0,1562716800000.0,1562803200000.0,1563062400000.0,1563148800000.0,1563235200000.0,1563321600000.0,1563408000000.0,1563667200000.0,1563753600000.0,1563840000000.0,1563926400000.0,1564012800000.0,1564272000000.0,1564358400000.0,1564444800000.0,1564531200000.0,1564617600000.0,1564876800000.0,1564963200000.0,1565049600000.0,1565136000000.0,1565222400000.0,1565481600000.0,1565568000000.0,1565654400000.0,1565740800000.0,1565827200000.0,1566086400000.0,1566172800000.0,1566259200000.0,1566345600000.0,1566432000000.0,1566691200000.0,1566777600000.0,1566864000000.0,1566950400000.0,1567036800000.0,1567296000000.0,1567382400000.0,1567468800000.0,1567555200000.0,1567641600000.0,1567900800000.0,1567987200000.0,1568073600000.0,1568160000000.0,1568246400000.0,1568505600000.0,1568592000000.0,1568678400000.0,1568764800000.0,1568851200000.0,1569110400000.0,1569196800000.0,1569283200000.0,1569369600000.0,1569456000000.0,1569542400000.0,1569715200000.0,1569801600000.0,1569888000000.0,1569974400000.0,1570060800000.0,1570320000000.0,1570406400000.0,1570492800000.0,1570579200000.0,1570665600000.0,1570924800000.0,1571011200000.0,1571097600000.0,1571184000000.0,1571270400000.0,1571529600000.0,1571616000000.0,1571702400000.0,1571788800000.0,1571875200000.0,1572134400000.0,1572220800000.0,1572307200000.0,1572393600000.0,1572480000000.0,1572739200000.0,1572825600000.0,1572912000000.0,1572998400000.0,1573084800000.0,1573344000000.0,1573430400000.0,1573516800000.0,1573603200000.0,1573689600000.0,1573948800000.0,1574035200000.0,1574121600000.0,1574208000000.0,1574294400000.0,1574553600000.0,1574640000000.0,1574726400000.0,1574812800000.0,1574899200000.0,1575158400000.0,1575244800000.0,1575331200000.0,1575417600000.0,1575504000000.0,1575763200000.0,1575849600000.0,1575936000000.0,1576022400000.0,1576108800000.0,1576368000000.0,1576454400000.0,1576540800000.0,1576627200000.0,1576713600000.0,1576972800000.0,1577059200000.0,1577232000000.0,1577318400000.0,1577577600000.0,1577664000000.0,1577836800000.0,1577923200000.0,1578182400000.0,1578268800000.0,1578355200000.0,1578441600000.0,1578528000000.0,1578787200000.0,1578873600000.0,1578960000000.0,1579046400000.0,1579132800000.0,1579392000000.0,1579478400000.0,1579564800000.0,1579651200000.0,1579737600000.0,1579996800000.0,1580083200000.0,1580169600000.0,1580256000000.0,1580342400000.0,1580601600000.0,1580688000000.0,1580774400000.0,1580860800000.0,1580947200000.0,1581206400000.0,1581292800000.0,1581379200000.0,1581465600000.0,1581552000000.0,1581811200000.0,1581897600000.0,1581984000000.0,1582070400000.0,1582156800000.0,1582416000000.0,1582502400000.0,1582588800000.0,1582675200000.0,1582761600000.0,1583020800000.0,1583107200000.0,1583193600000.0,1583280000000.0,1583366400000.0,1583625600000.0,1583712000000.0,1583798400000.0,1583884800000.0,1583971200000.0,1584230400000.0,1584316800000.0,1584403200000.0,1584489600000.0,1584576000000.0,1584835200000.0,1584921600000.0,1585008000000.0,1585094400000.0,1585180800000.0,1585440000000.0,1585526400000.0,1585612800000.0,1585699200000.0,1585785600000.0,1586044800000.0,1586131200000.0,1586217600000.0,1586304000000.0,1586390400000.0,1586649600000.0,1586736000000.0,1586822400000.0,1586908800000.0,1586995200000.0,1587254400000.0,1587340800000.0,1587427200000.0,1587513600000.0,1587600000000.0,1587859200000.0,1587945600000.0,1588032000000.0,1588118400000.0,1588204800000.0,1588464000000.0,1588550400000.0,1588636800000.0,1588723200000.0,1588809600000.0,1589068800000.0,1589155200000.0,1589241600000.0,1589328000000.0,1589414400000.0,1589673600000.0,1589760000000.0,1589846400000.0,1589932800000.0,1590019200000.0,1590278400000.0,1590364800000.0,1590451200000.0,1590537600000.0,1590624000000.0,1590883200000.0,1590969600000.0,1591056000000.0,1591142400000.0,1591228800000.0,1591488000000.0,1591574400000.0,1591660800000.0,1591747200000.0,1591833600000.0,1592092800000.0,1592179200000.0,1592265600000.0,1592352000000.0,1592438400000.0,1592697600000.0,1592784000000.0,1592870400000.0,1592956800000.0,1593043200000.0,1593302400000.0,1593388800000.0,1593475200000.0,1593561600000.0,1593648000000.0,1593907200000.0,1593993600000.0,1594080000000.0,1594166400000.0,1594252800000.0,1594512000000.0,1594598400000.0,1594684800000.0,1594771200000.0,1594857600000.0,1595116800000.0,1595203200000.0,1595289600000.0,1595376000000.0,1595462400000.0,1595721600000.0,1595808000000.0,1595894400000.0,1595980800000.0,1596067200000.0,1596326400000.0,1596412800000.0,1596499200000.0,1596585600000.0,1596672000000.0,1596931200000.0,1597017600000.0,1597104000000.0,1597190400000.0,1597276800000.0,1597536000000.0,1597622400000.0,1597708800000.0,1597795200000.0],\"y0\":{\"__ndarray__\":\"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\",\"dtype\":\"float64\",\"shape\":[512]},\"y1\":{\"__ndarray__\":\"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\",\"dtype\":\"float64\",\"shape\":[512]}},\"selected\":{\"id\":\"1079\",\"type\":\"Selection\"},\"selection_policy\":{\"id\":\"1078\",\"type\":\"UnionRenderers\"}},\"id\":\"1034\",\"type\":\"ColumnDataSource\"},{\"attributes\":{},\"id\":\"1026\",\"type\":\"ResetTool\"},{\"attributes\":{},\"id\":\"1083\",\"type\":\"Selection\"},{\"attributes\":{\"line_color\":{\"value\":\"red\"},\"line_width\":{\"value\":3},\"location\":1.07916},\"id\":\"1060\",\"type\":\"Span\"},{\"attributes\":{\"num_minor_ticks\":5,\"tickers\":[{\"id\":\"1066\",\"type\":\"AdaptiveTicker\"},{\"id\":\"1067\",\"type\":\"AdaptiveTicker\"},{\"id\":\"1068\",\"type\":\"AdaptiveTicker\"},{\"id\":\"1069\",\"type\":\"DaysTicker\"},{\"id\":\"1070\",\"type\":\"DaysTicker\"},{\"id\":\"1071\",\"type\":\"DaysTicker\"},{\"id\":\"1072\",\"type\":\"DaysTicker\"},{\"id\":\"1073\",\"type\":\"MonthsTicker\"},{\"id\":\"1074\",\"type\":\"MonthsTicker\"},{\"id\":\"1075\",\"type\":\"MonthsTicker\"},{\"id\":\"1076\",\"type\":\"MonthsTicker\"},{\"id\":\"1077\",\"type\":\"YearsTicker\"}]},\"id\":\"1014\",\"type\":\"DatetimeTicker\"},{\"attributes\":{\"bottom\":{\"field\":\"bottom\"},\"fill_alpha\":{\"value\":0.1},\"fill_color\":{\"value\":\"#1f77b4\"},\"line_alpha\":{\"value\":0.1},\"line_color\":{\"value\":\"#1f77b4\"},\"top\":{\"field\":\"top\"},\"width\":{\"value\":43200000},\"x\":{\"field\":\"x\"}},\"id\":\"1046\",\"type\":\"VBar\"},{\"attributes\":{\"days\":[1,2,3,4,5,6,7,8,9,10,11,12,13,14,15,16,17,18,19,20,21,22,23,24,25,26,27,28,29,30,31]},\"id\":\"1069\",\"type\":\"DaysTicker\"},{\"attributes\":{\"grid_line_alpha\":0.3,\"ticker\":{\"id\":\"1014\",\"type\":\"DatetimeTicker\"}},\"id\":\"1017\",\"type\":\"Grid\"},{\"attributes\":{},\"id\":\"1077\",\"type\":\"YearsTicker\"},{\"attributes\":{},\"id\":\"1081\",\"type\":\"Selection\"},{\"attributes\":{\"x0\":{\"field\":\"x0\"},\"x1\":{\"field\":\"x1\"},\"y0\":{\"field\":\"y0\"},\"y1\":{\"field\":\"y1\"}},\"id\":\"1035\",\"type\":\"Segment\"},{\"attributes\":{\"bottom\":{\"field\":\"bottom\"},\"fill_color\":{\"value\":\"#F2583E\"},\"top\":{\"field\":\"top\"},\"width\":{\"value\":43200000},\"x\":{\"field\":\"x\"}},\"id\":\"1045\",\"type\":\"VBar\"},{\"attributes\":{\"months\":[0,4,8]},\"id\":\"1075\",\"type\":\"MonthsTicker\"},{\"attributes\":{\"source\":{\"id\":\"1044\",\"type\":\"ColumnDataSource\"}},\"id\":\"1048\",\"type\":\"CDSView\"},{\"attributes\":{\"days\":[1,4,7,10,13,16,19,22,25,28]},\"id\":\"1070\",\"type\":\"DaysTicker\"},{\"attributes\":{\"dimension\":1,\"grid_line_alpha\":0.3,\"ticker\":{\"id\":\"1019\",\"type\":\"BasicTicker\"}},\"id\":\"1022\",\"type\":\"Grid\"},{\"attributes\":{\"bottom_units\":\"screen\",\"fill_alpha\":{\"value\":0.5},\"fill_color\":{\"value\":\"lightgrey\"},\"left_units\":\"screen\",\"level\":\"overlay\",\"line_alpha\":{\"value\":1.0},\"line_color\":{\"value\":\"black\"},\"line_dash\":[4,4],\"line_width\":{\"value\":2},\"render_mode\":\"css\",\"right_units\":\"screen\",\"top_units\":\"screen\"},\"id\":\"1084\",\"type\":\"BoxAnnotation\"},{\"attributes\":{\"data_source\":{\"id\":\"1034\",\"type\":\"ColumnDataSource\"},\"glyph\":{\"id\":\"1035\",\"type\":\"Segment\"},\"hover_glyph\":null,\"muted_glyph\":null,\"nonselection_glyph\":{\"id\":\"1036\",\"type\":\"Segment\"},\"selection_glyph\":null,\"view\":{\"id\":\"1038\",\"type\":\"CDSView\"}},\"id\":\"1037\",\"type\":\"GlyphRenderer\"},{\"attributes\":{},\"id\":\"1062\",\"type\":\"DatetimeTickFormatter\"},{\"attributes\":{\"callback\":null,\"data\":{\"bottom\":{\"__ndarray__\":\"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\",\"dtype\":\"float64\",\"shape\":[253]},\"top\":{\"__ndarray__\":\"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\",\"dtype\":\"float64\",\"shape\":[253]},\"x\":[1535587200000.0,1535932800000.0,1536105600000.0,1536192000000.0,1536796800000.0,1537142400000.0,1537401600000.0,1537833600000.0,1537920000000.0,1538006400000.0,1538265600000.0,1538352000000.0,1538438400000.0,1538870400000.0,1539216000000.0,1539561600000.0,1539648000000.0,1539734400000.0,1540080000000.0,1540252800000.0,1540339200000.0,1540684800000.0,1540771200000.0,1540857600000.0,1541030400000.0,1541462400000.0,1541548800000.0,1541635200000.0,1541894400000.0,1542585600000.0,1542844800000.0,1543104000000.0,1543190400000.0,1543449600000.0,1543795200000.0,1544313600000.0,1544400000000.0,1544572800000.0,1544659200000.0,1545264000000.0,1545696000000.0,1546300800000.0,1546819200000.0,1546992000000.0,1547078400000.0,1547424000000.0,1547510400000.0,1547596800000.0,1547683200000.0,1548028800000.0,1548201600000.0,1548806400000.0,1549152000000.0,1549238400000.0,1549324800000.0,1549411200000.0,1549497600000.0,1549756800000.0,1549929600000.0,1550102400000.0,1550534400000.0,1550620800000.0,1550707200000.0,1551139200000.0,1551312000000.0,1551571200000.0,1551657600000.0,1551744000000.0,1551830400000.0,1552435200000.0,1553040000000.0,1553126400000.0,1553472000000.0,1553558400000.0,1553644800000.0,1553731200000.0,1553990400000.0,1554076800000.0,1554249600000.0,1554336000000.0,1554681600000.0,1554854400000.0,1555200000000.0,1555286400000.0,1555459200000.0,1555891200000.0,1555977600000.0,1556064000000.0,1556582400000.0,1556668800000.0,1557100800000.0,1557619200000.0,1557705600000.0,1557792000000.0,1557878400000.0,1557964800000.0,1558310400000.0,1558396800000.0,1558828800000.0,1558915200000.0,1559001600000.0,1559088000000.0,1559606400000.0,1560038400000.0,1560211200000.0,1560297600000.0,1560384000000.0,1560729600000.0,1561334400000.0,1561852800000.0,1562025600000.0,1562198400000.0,1562457600000.0,1562544000000.0,1563062400000.0,1563148800000.0,1563408000000.0,1563667200000.0,1563753600000.0,1563840000000.0,1564012800000.0,1564444800000.0,1564963200000.0,1565049600000.0,1565136000000.0,1565568000000.0,1565654400000.0,1565740800000.0,1565827200000.0,1566086400000.0,1566259200000.0,1566345600000.0,1566691200000.0,1566777600000.0,1566864000000.0,1566950400000.0,1567036800000.0,1567296000000.0,1567555200000.0,1567641600000.0,1567987200000.0,1568073600000.0,1568505600000.0,1568678400000.0,1568851200000.0,1569110400000.0,1569283200000.0,1569369600000.0,1569715200000.0,1570320000000.0,1570406400000.0,1570924800000.0,1571529600000.0,1571616000000.0,1571788800000.0,1571875200000.0,1572739200000.0,1572825600000.0,1572912000000.0,1572998400000.0,1573084800000.0,1573430400000.0,1573516800000.0,1574121600000.0,1574208000000.0,1574294400000.0,1574553600000.0,1574726400000.0,1575331200000.0,1575504000000.0,1576108800000.0,1576540800000.0,1576713600000.0,1577059200000.0,1577836800000.0,1577923200000.0,1578268800000.0,1578355200000.0,1578873600000.0,1579046400000.0,1579132800000.0,1579478400000.0,1579651200000.0,1579737600000.0,1579996800000.0,1580169600000.0,1580601600000.0,1580688000000.0,1580774400000.0,1580860800000.0,1580947200000.0,1581206400000.0,1581379200000.0,1581465600000.0,1581552000000.0,1581811200000.0,1581897600000.0,1582070400000.0,1582588800000.0,1583193600000.0,1583712000000.0,1583798400000.0,1583884800000.0,1583971200000.0,1584316800000.0,1584403200000.0,1584489600000.0,1585440000000.0,1585526400000.0,1585612800000.0,1585699200000.0,1585785600000.0,1586044800000.0,1586217600000.0,1586649600000.0,1586822400000.0,1586908800000.0,1587254400000.0,1587340800000.0,1587427200000.0,1587513600000.0,1587945600000.0,1588464000000.0,1588550400000.0,1588636800000.0,1589068800000.0,1589241600000.0,1589328000000.0,1589932800000.0,1590019200000.0,1590278400000.0,1591228800000.0,1591488000000.0,1591747200000.0,1591833600000.0,1592179200000.0,1592265600000.0,1592352000000.0,1592438400000.0,1592870400000.0,1592956800000.0,1593388800000.0,1593561600000.0,1593993600000.0,1594166400000.0,1594771200000.0,1595808000000.0,1596067200000.0,1596326400000.0,1596672000000.0,1596931200000.0,1597708800000.0,1597795200000.0]},\"selected\":{\"id\":\"1083\",\"type\":\"Selection\"},\"selection_policy\":{\"id\":\"1082\",\"type\":\"UnionRenderers\"}},\"id\":\"1044\",\"type\":\"ColumnDataSource\"},{\"attributes\":{\"source\":{\"id\":\"1034\",\"type\":\"ColumnDataSource\"}},\"id\":\"1038\",\"type\":\"CDSView\"},{\"attributes\":{\"data_source\":{\"id\":\"1044\",\"type\":\"ColumnDataSource\"},\"glyph\":{\"id\":\"1045\",\"type\":\"VBar\"},\"hover_glyph\":null,\"muted_glyph\":null,\"nonselection_glyph\":{\"id\":\"1046\",\"type\":\"VBar\"},\"selection_glyph\":null,\"view\":{\"id\":\"1048\",\"type\":\"CDSView\"}},\"id\":\"1047\",\"type\":\"GlyphRenderer\"},{\"attributes\":{\"line_color\":{\"value\":\"green\"},\"line_width\":{\"value\":3},\"location\":1.144},\"id\":\"1057\",\"type\":\"Span\"},{\"attributes\":{\"mantissas\":[1,2,5],\"max_interval\":500.0,\"num_minor_ticks\":0},\"id\":\"1066\",\"type\":\"AdaptiveTicker\"},{\"attributes\":{\"days\":[1,8,15,22]},\"id\":\"1071\",\"type\":\"DaysTicker\"},{\"attributes\":{\"line_color\":{\"value\":\"green\"},\"line_width\":{\"value\":3},\"location\":1.17776},\"id\":\"1049\",\"type\":\"Span\"},{\"attributes\":{\"active_drag\":\"auto\",\"active_inspect\":\"auto\",\"active_multi\":null,\"active_scroll\":\"auto\",\"active_tap\":\"auto\",\"tools\":[{\"id\":\"1023\",\"type\":\"PanTool\"},{\"id\":\"1024\",\"type\":\"WheelZoomTool\"},{\"id\":\"1025\",\"type\":\"BoxZoomTool\"},{\"id\":\"1026\",\"type\":\"ResetTool\"},{\"id\":\"1027\",\"type\":\"SaveTool\"}]},\"id\":\"1028\",\"type\":\"Toolbar\"},{\"attributes\":{\"days\":[1,15]},\"id\":\"1072\",\"type\":\"DaysTicker\"},{\"attributes\":{},\"id\":\"1023\",\"type\":\"PanTool\"},{\"attributes\":{\"base\":24,\"mantissas\":[1,2,4,6,8,12],\"max_interval\":43200000.0,\"min_interval\":3600000.0,\"num_minor_ticks\":0},\"id\":\"1068\",\"type\":\"AdaptiveTicker\"},{\"attributes\":{\"months\":[0,1,2,3,4,5,6,7,8,9,10,11]},\"id\":\"1073\",\"type\":\"MonthsTicker\"},{\"attributes\":{},\"id\":\"1019\",\"type\":\"BasicTicker\"},{\"attributes\":{\"bottom\":{\"field\":\"bottom\"},\"fill_color\":{\"value\":\"#D5E1DD\"},\"top\":{\"field\":\"top\"},\"width\":{\"value\":43200000},\"x\":{\"field\":\"x\"}},\"id\":\"1040\",\"type\":\"VBar\"},{\"attributes\":{\"line_color\":{\"value\":\"green\"},\"line_width\":{\"value\":3},\"location\":1.10795},\"id\":\"1053\",\"type\":\"Span\"},{\"attributes\":{},\"id\":\"1024\",\"type\":\"WheelZoomTool\"},{\"attributes\":{\"text\":\"EUR_USDCurrency Pair\"},\"id\":\"1003\",\"type\":\"Title\"},{\"attributes\":{\"overlay\":{\"id\":\"1084\",\"type\":\"BoxAnnotation\"}},\"id\":\"1025\",\"type\":\"BoxZoomTool\"},{\"attributes\":{\"base\":60,\"mantissas\":[1,2,5,10,15,20,30],\"max_interval\":1800000.0,\"min_interval\":1000.0,\"num_minor_ticks\":0},\"id\":\"1067\",\"type\":\"AdaptiveTicker\"},{\"attributes\":{},\"id\":\"1078\",\"type\":\"UnionRenderers\"},{\"attributes\":{},\"id\":\"1079\",\"type\":\"Selection\"},{\"attributes\":{\"line_color\":{\"value\":\"green\"},\"line_width\":{\"value\":3},\"location\":1.11512},\"id\":\"1055\",\"type\":\"Span\"},{\"attributes\":{\"line_color\":{\"value\":\"red\"},\"line_width\":{\"value\":3},\"location\":1.08986},\"id\":\"1059\",\"type\":\"Span\"}],\"root_ids\":[\"1002\"]},\"title\":\"Bokeh Application\",\"version\":\"1.4.0\"}};\n",
       "  var render_items = [{\"docid\":\"bd6e4b29-e09f-4746-a8b0-c133647be429\",\"notebook_comms_target\":\"1085\",\"roots\":{\"1002\":\"7944f9ec-02bc-4b4a-8c57-0595687bf89b\"}}];\n",
       "  root.Bokeh.embed.embed_items_notebook(docs_json, render_items);\n",
       "\n",
       "  }\n",
       "  if (root.Bokeh !== undefined) {\n",
       "    embed_document(root);\n",
       "  } else {\n",
       "    var attempts = 0;\n",
       "    var timer = setInterval(function(root) {\n",
       "      if (root.Bokeh !== undefined) {\n",
       "        clearInterval(timer);\n",
       "        embed_document(root);\n",
       "      } else {\n",
       "        attempts++;\n",
       "        if (attempts > 100) {\n",
       "          clearInterval(timer);\n",
       "          console.log(\"Bokeh: ERROR: Unable to run BokehJS code because BokehJS library is missing\");\n",
       "        }\n",
       "      }\n",
       "    }, 10, root)\n",
       "  }\n",
       "})(window);"
      ],
      "application/vnd.bokehjs_exec.v0+json": ""
     },
     "metadata": {
      "application/vnd.bokehjs_exec.v0+json": {
       "id": "1002"
      }
     },
     "output_type": "display_data"
    },
    {
     "data": {
      "text/html": [
       "<p><code>&lt;Bokeh Notebook handle for <strong>In[27]</strong>&gt;</code></p>"
      ],
      "text/plain": [
       "<bokeh.io.notebook.CommsHandle at 0x7fe926869f10>"
      ]
     },
     "execution_count": 27,
     "metadata": {},
     "output_type": "execute_result"
    }
   ],
   "source": [
    "#output_file(instrument+\".html\", title=instrument+\" Currency Pair\")\n",
    "\n",
    "show(p, notebook_handle=True)  # open a browser"
   ]
  },
  {
   "cell_type": "code",
   "execution_count": null,
   "metadata": {},
   "outputs": [],
   "source": []
  },
  {
   "cell_type": "code",
   "execution_count": 28,
   "metadata": {},
   "outputs": [],
   "source": [
    "#TODO, add in 'squishy zones'"
   ]
  }
 ],
 "metadata": {
  "kernelspec": {
   "display_name": "Python 3",
   "language": "python",
   "name": "python3"
  },
  "language_info": {
   "codemirror_mode": {
    "name": "ipython",
    "version": 3
   },
   "file_extension": ".py",
   "mimetype": "text/x-python",
   "name": "python",
   "nbconvert_exporter": "python",
   "pygments_lexer": "ipython3",
   "version": "3.7.6"
  }
 },
 "nbformat": 4,
 "nbformat_minor": 2
}
